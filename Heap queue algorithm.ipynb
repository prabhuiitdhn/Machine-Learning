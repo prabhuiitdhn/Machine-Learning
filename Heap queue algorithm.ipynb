{
 "cells": [
  {
   "cell_type": "code",
   "execution_count": 60,
   "metadata": {},
   "outputs": [],
   "source": [
    "# https://docs.python.org/3/library/heapq.html\n",
    "import heapq\n",
    "import numpy as np\n",
    "import random"
   ]
  },
  {
   "cell_type": "code",
   "execution_count": 61,
   "metadata": {},
   "outputs": [],
   "source": [
    "heap_p = []"
   ]
  },
  {
   "cell_type": "code",
   "execution_count": 62,
   "metadata": {},
   "outputs": [
    {
     "name": "stdout",
     "output_type": "stream",
     "text": [
      "[2]\n"
     ]
    }
   ],
   "source": [
    "heapq.heappush(heap_p, 2)\n",
    "print(heap_p)"
   ]
  },
  {
   "cell_type": "code",
   "execution_count": 72,
   "metadata": {},
   "outputs": [
    {
     "name": "stdout",
     "output_type": "stream",
     "text": [
      "The final Heapq: [11, 16, 31, 28, 28, 46, 31, 39, 51, 92, 52, 52, 49, 54, 33, 79, 52, 52]\n"
     ]
    }
   ],
   "source": [
    "# pushing the element in heap\n",
    "for i in range(10):\n",
    "    heapq.heappush(heap_p, random.randint(10, 100))\n",
    "\n",
    "print(\"The final Heapq:\", heap_p)"
   ]
  },
  {
   "cell_type": "code",
   "execution_count": 73,
   "metadata": {},
   "outputs": [
    {
     "name": "stdout",
     "output_type": "stream",
     "text": [
      "The heapified heap: [11, 16, 31, 28, 28, 46, 31, 39, 51, 92, 52, 52, 49, 54, 33, 79, 52, 52]\n"
     ]
    }
   ],
   "source": [
    "heapq.heapify(heap_p)\n",
    "print(\"The heapified heap:\", heap_p)\n"
   ]
  },
  {
   "cell_type": "code",
   "execution_count": 74,
   "metadata": {},
   "outputs": [
    {
     "name": "stdout",
     "output_type": "stream",
     "text": [
      "The sorted heap_p: [11, 16, 28, 28, 31, 31, 33, 39, 46, 49, 51, 52, 52, 52, 52, 54, 79, 92]\n"
     ]
    }
   ],
   "source": [
    "# sorting the heap\n",
    "heap_p.sort()\n",
    "print(\"The sorted heap_p:\", heap_p)"
   ]
  },
  {
   "cell_type": "code",
   "execution_count": 85,
   "metadata": {},
   "outputs": [
    {
     "data": {
      "text/plain": [
       "999"
      ]
     },
     "execution_count": 85,
     "metadata": {},
     "output_type": "execute_result"
    }
   ],
   "source": [
    "# removing last element from heap\n",
    "heap_p.pop() \n",
    " "
   ]
  },
  {
   "cell_type": "code",
   "execution_count": 86,
   "metadata": {},
   "outputs": [
    {
     "data": {
      "text/plain": [
       "31"
      ]
     },
     "execution_count": 86,
     "metadata": {},
     "output_type": "execute_result"
    }
   ],
   "source": [
    "heapq.heappop(heap_p)\n",
    "# return the smallest element from heap"
   ]
  },
  {
   "cell_type": "code",
   "execution_count": 87,
   "metadata": {},
   "outputs": [
    {
     "name": "stdout",
     "output_type": "stream",
     "text": [
      "Inserted 98 in heap_p: [33, 39, 52, 46, 49, 52, 98, 54, 999, 98, 51, 52, 98]\n"
     ]
    }
   ],
   "source": [
    "heapq.heappush(heap_p, 98)\n",
    "print(\"Inserted 98 in heap_p:\", heap_p)"
   ]
  },
  {
   "cell_type": "code",
   "execution_count": 88,
   "metadata": {},
   "outputs": [
    {
     "name": "stdout",
     "output_type": "stream",
     "text": [
      "Heap: [39, 46, 52, 54, 49, 52, 98, 999, 999, 98, 51, 52, 98]\n"
     ]
    }
   ],
   "source": [
    "# Pop and return the smallest item from the heap, and also push the new item. The heap size doesn’t change. \n",
    "heapq.heapreplace(heap_p, 999)\n",
    "print(\"Heap:\", heap_p)"
   ]
  },
  {
   "cell_type": "code",
   "execution_count": 90,
   "metadata": {},
   "outputs": [
    {
     "data": {
      "text/plain": [
       "[999, 999]"
      ]
     },
     "execution_count": 90,
     "metadata": {},
     "output_type": "execute_result"
    }
   ],
   "source": [
    "# find the n largest element from heap\n",
    "heapq.nlargest(2, heap_p)"
   ]
  },
  {
   "cell_type": "code",
   "execution_count": 91,
   "metadata": {},
   "outputs": [
    {
     "data": {
      "text/plain": [
       "[39, 46]"
      ]
     },
     "execution_count": 91,
     "metadata": {},
     "output_type": "execute_result"
    }
   ],
   "source": [
    "# return n smallest value from heap\n",
    "heapq.nsmallest(2, heap_p)"
   ]
  },
  {
   "cell_type": "code",
   "execution_count": 98,
   "metadata": {},
   "outputs": [
    {
     "ename": "ValueError",
     "evalue": "invalid number of arguments",
     "output_type": "error",
     "traceback": [
      "\u001b[1;31m---------------------------------------------------------------------------\u001b[0m",
      "\u001b[1;31mValueError\u001b[0m                                Traceback (most recent call last)",
      "\u001b[1;32m<ipython-input-98-6ec75f7e8c63>\u001b[0m in \u001b[0;36m<module>\u001b[1;34m\u001b[0m\n\u001b[1;32m----> 1\u001b[1;33m \u001b[0mnp\u001b[0m\u001b[1;33m.\u001b[0m\u001b[0mmultiply\u001b[0m\u001b[1;33m(\u001b[0m\u001b[0mheap_p\u001b[0m\u001b[1;33m[\u001b[0m\u001b[1;33m-\u001b[0m\u001b[1;36m3\u001b[0m\u001b[1;33m:\u001b[0m\u001b[1;33m]\u001b[0m\u001b[1;33m)\u001b[0m\u001b[1;33m\u001b[0m\u001b[1;33m\u001b[0m\u001b[0m\n\u001b[0m",
      "\u001b[1;31mValueError\u001b[0m: invalid number of arguments"
     ]
    }
   ],
   "source": []
  },
  {
   "cell_type": "code",
   "execution_count": 144,
   "metadata": {},
   "outputs": [],
   "source": [
    "# EXAMPLE\n",
    "import numpy as np\n",
    "import heapq\n",
    "array = np.array([168, 372, 141, 96, 439, 187, 144, 42, 425, 286, 272, 87, 421, 311, 49, 341, 282, 255, 52, 363, 425, 350])\n",
    "n = len(array)"
   ]
  },
  {
   "cell_type": "code",
   "execution_count": 145,
   "metadata": {},
   "outputs": [],
   "source": [
    "heap_p =[]\n",
    "for i in range(n):\n",
    "    heapq.heappush(heap_p, array[i])"
   ]
  },
  {
   "cell_type": "code",
   "execution_count": 146,
   "metadata": {},
   "outputs": [
    {
     "data": {
      "text/plain": [
       "[42,\n",
       " 52,\n",
       " 49,\n",
       " 96,\n",
       " 272,\n",
       " 144,\n",
       " 87,\n",
       " 282,\n",
       " 141,\n",
       " 363,\n",
       " 286,\n",
       " 187,\n",
       " 421,\n",
       " 311,\n",
       " 168,\n",
       " 372,\n",
       " 341,\n",
       " 425,\n",
       " 255,\n",
       " 439,\n",
       " 425,\n",
       " 350]"
      ]
     },
     "execution_count": 146,
     "metadata": {},
     "output_type": "execute_result"
    }
   ],
   "source": [
    "heap_p"
   ]
  },
  {
   "cell_type": "code",
   "execution_count": 147,
   "metadata": {},
   "outputs": [
    {
     "data": {
      "text/plain": [
       "[42,\n",
       " 49,\n",
       " 52,\n",
       " 87,\n",
       " 96,\n",
       " 141,\n",
       " 144,\n",
       " 168,\n",
       " 187,\n",
       " 255,\n",
       " 272,\n",
       " 282,\n",
       " 286,\n",
       " 311,\n",
       " 341,\n",
       " 350,\n",
       " 363,\n",
       " 372,\n",
       " 421,\n",
       " 425,\n",
       " 425,\n",
       " 439]"
      ]
     },
     "execution_count": 147,
     "metadata": {},
     "output_type": "execute_result"
    }
   ],
   "source": [
    "heap_p.sort()\n",
    "heap_p"
   ]
  },
  {
   "cell_type": "code",
   "execution_count": 148,
   "metadata": {},
   "outputs": [
    {
     "name": "stderr",
     "output_type": "stream",
     "text": [
      "C:\\Users\\uib43225\\.conda\\envs\\fusion\\lib\\site-packages\\ipykernel_launcher.py:4: RuntimeWarning: overflow encountered in long_scalars\n",
      "  after removing the cwd from sys.path.\n"
     ]
    }
   ],
   "source": [
    "# heap_p.pop()\n",
    "product=1\n",
    "for j in range(8):\n",
    "    product = product* heapq.heappop(heap_p)\n"
   ]
  },
  {
   "cell_type": "code",
   "execution_count": 149,
   "metadata": {},
   "outputs": [
    {
     "name": "stdout",
     "output_type": "stream",
     "text": [
      "-228687872\n"
     ]
    }
   ],
   "source": [
    "print(product)"
   ]
  },
  {
   "cell_type": "code",
   "execution_count": 153,
   "metadata": {},
   "outputs": [],
   "source": [
    "import heapq"
   ]
  },
  {
   "cell_type": "code",
   "execution_count": 154,
   "metadata": {},
   "outputs": [],
   "source": [
    "heap_p = []"
   ]
  },
  {
   "cell_type": "code",
   "execution_count": 155,
   "metadata": {},
   "outputs": [],
   "source": [
    "heapq.heappush(heap_p, 0)\n",
    "heapq.heappush(heap_p, 10)\n",
    "heapq.heappush(heap_p, 0)\n",
    "heapq.heappush(heap_p, 20)\n",
    "heapq.heappush(heap_p, -20)\n"
   ]
  },
  {
   "cell_type": "code",
   "execution_count": 156,
   "metadata": {},
   "outputs": [
    {
     "data": {
      "text/plain": [
       "[-20, 0, 0, 20, 10]"
      ]
     },
     "execution_count": 156,
     "metadata": {},
     "output_type": "execute_result"
    }
   ],
   "source": [
    "heap_p"
   ]
  },
  {
   "cell_type": "code",
   "execution_count": 158,
   "metadata": {},
   "outputs": [],
   "source": [
    "heapq.heapify(heap_p)"
   ]
  },
  {
   "cell_type": "code",
   "execution_count": 159,
   "metadata": {},
   "outputs": [
    {
     "data": {
      "text/plain": [
       "[-20, 0, 0, 20, 10]"
      ]
     },
     "execution_count": 159,
     "metadata": {},
     "output_type": "execute_result"
    }
   ],
   "source": [
    "heap_p"
   ]
  },
  {
   "cell_type": "code",
   "execution_count": null,
   "metadata": {},
   "outputs": [],
   "source": []
  }
 ],
 "metadata": {
  "kernelspec": {
   "display_name": "Python 3",
   "language": "python",
   "name": "python3"
  },
  "language_info": {
   "codemirror_mode": {
    "name": "ipython",
    "version": 3
   },
   "file_extension": ".py",
   "mimetype": "text/x-python",
   "name": "python",
   "nbconvert_exporter": "python",
   "pygments_lexer": "ipython3",
   "version": "3.6.10"
  }
 },
 "nbformat": 4,
 "nbformat_minor": 4
}
