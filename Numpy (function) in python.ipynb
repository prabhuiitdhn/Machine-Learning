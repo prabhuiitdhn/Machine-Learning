{
 "cells": [
  {
   "cell_type": "code",
   "execution_count": 1,
   "metadata": {},
   "outputs": [],
   "source": [
    "# numpy useful function"
   ]
  },
  {
   "cell_type": "code",
   "execution_count": 2,
   "metadata": {},
   "outputs": [],
   "source": [
    "# numpy.all(array, axis, out, keepdims)-check whether all the elements in an array evaluate to True.\n",
    "# numpy.any(array, axis, out, keepdims)-check whether any of the elemenst in an array evaluate to True\n",
    "# numpy.place(array, mask, vals) -Makes changes in the array according to the parameters\n",
    "# numpy.extract(condition, array) - returns elecments from the input array if they satisfied the specific condition\n",
    "# numpy.take() function returns element from array aling the mentioned axis and indices\n",
    "# numpy.put() function replaces specific elements of an array with given values of p_array\n",
    "# numpy.compress() function returns selected slices of an array along mentioned axis that satisfies an axis\n",
    "# numpy.divide(arr1, arr2); returns the element wise division between two arrays\n",
    "# numpy.apply_along_axis(fun1, axis, array); returns the function applied array\n",
    "# numpy.rot90(); returns the rotation of an array by 90 degree in the plane\n",
    "# numpy.floor_divide(arr1, arr2) -used to divide each element of arr1 to each element of arr2 (floor-division)\n",
    "# numpy.true_divide(arr1, arr2) -used to divide each element of arr1 to each element of arr2 (true-division)\n",
    "# numpy.apply_over_axes(func, array, axes): applies a function repeatedly over multiple axes in an array\n",
    "# numpy.tile()- function constructs a new array by repeating array -arr, the number of times we want to repeat as per repetitions.\n",
    "# numpy.argmin(array, axis =0) - function returns indices of min element of the array in particular axis\n",
    "# numpy.armmax(array, axis =0) - function returns the indices of max element of the array in particular axis\n",
    "# numpy.random.rand(d0)- function return random value of shape d0\n",
    "# numpy.ravel(array) - function returns contiguous flatten array\n",
    "# numpy.nanargmin(array) - function returns the min element of array in particular axis ignoring NANs\n",
    "# numpy.nanargmax(array) - function returns the max element of array in particular axis ignoring NANs\n",
    "# numpy.isinf() - function test element-wise whether it is +ve or -ve infinity\n",
    "# numpy.ndarray.flat(index[tuple(int)]) - function is used as 1_D iterator over N-dimensional arrays; It flat the numpy array\n",
    "# numpy.isrealobj() - function helps to check If array has no complex type or array has a complex number.\n",
    "# numpy.expm1() - function helps to find exponential of each element of array\n",
    "# numpy.amax() - function returns the max element of an array or maximum along the axis \n",
    "# numpy.amin() - function returns the min element of an array  or minimum along the axis\n",
    "# numpy.isscalar(num)- function returns true if element is scalar\n",
    "# numpy.bincount(array) - function returns the counting of each element in an arrray\n",
    "# numpy.random.shuffle(array) - function shuffle the element of array randomly\n",
    "# numpy.rint(x) - mathematical function return round elements of the array to the nearest integer\n",
    "# numpy.isneginf() function tests element wise whether it is negative infinity or not\n",
    "# numpy.isposinf() - function tests element wise whether it is +ve infinity or not\n",
    "# numpy.equal(arr1, arr2)-checks the array1 and array2 is equal element wise or not\n",
    "# numpy.iscomplex(arr)-check the element wise array is complex number or not\n",
    "# numpy.unequal(arr1, arr2) - checks whether the two array(arr1, arr2) is unequal or not\n",
    "# numpy.isnam(arr) -check each element of an array is NAN or not\n",
    "# numpy.insert(array, object, values, axis=None) - used to insert the value along the mentioned axis before the given indices\n",
    "# numpy.delete(array, object (subarray which will delete), axis=None) - returns the modified array after deleteing\n",
    "# numpy.append(array, values, axis = None) - append values along the mentioned axis at the end of the array\n",
    "# numpy.less(x1, x2) - function that checks whether x1 is less the x2 or not. \n",
    "# numpy.round(arr1) - function that roundoff the value each element of an array\n",
    "# numpy.less_equal(x1, x2) - function that checks each element of x1 is less and equal to x2\n",
    "# numpy.greater(x1, x2) - function that checks each element of x1 is greater than x2\n",
    "# numpy.greater_equal(x1, x2) - function that check each elements of x1 is greater and equal to x2\n",
    "# numpy.iscomplexobj() - function check each element of array is complex or not?\n",
    "# numpy.isreal(array) - function check the each element of an array is real or not?\n",
    "# numpy.isfinite(array) -function checks each element of an array is finite or not?\n",
    "# numpy.flip(arr) - function which flips each element of an array\n",
    "# numpy.fliplr(arr) - function which flips the elements along left-right\n",
    "# numpy.flipud(arr) -function which flips the elements along up-down side.\n",
    "# numpy.isfortran(arr)- checks each elements of an array is FORTRAN order in memory\n",
    "# numpy.triu(arr)-returns a copied array which takes the element of upper part of an arry\n",
    "# numpy.tril(arr) -returns a copied array which takes the element of lower part of an array\n",
    "# numpy.tri(no_of_row, no_of_col, k=?) ; k=0 main diagonal, k>0 digonal above main diagonal, k<0 diagonal below main diagonal\n",
    "# numpy.prod(array, axis=0/1) -returns the product of each elements along axis\n",
    "# numpy.square(array) - it square each element of an array\n",
    "# numpy.exp(array) - calculates the exp of each elements of an array\n",
    "# numpy.exp2(array) -calculates 2**x; where x is each element of an array\n",
    "# numpy.cbrt(array) - calcualte cube root of each element in an array\n",
    "# numpy.fix(array) - retruns round elements of an array to the nearest integer toward 0\n",
    "# numpy.empty([r, c]) - rerturn an array of size (2X4) with random values\n",
    "# numpy.empty_like(previous_array) - retruns the array with size of prevous array size and same data type\n",
    "# numpy.absolute(arr) - retrun the array with absolute value of each element\n",
    "# numpy.hypot() - calculate the hypotenuse of the right angle trianle, given its side and perpendicular. (x1**2+x2**2)\n",
    "# numpy.zeros(shape,dtype=None) - return an array with zeros\n",
    "# numpy.ones(shape, dtype=None) -return an array with ones\n",
    "# numpy.zeros_like(previous_array) - return an array with zeros\n",
    "# numpy.ones_like(previous) -return an array with the shape of previous array\n",
    "# numpy.full_like(array, value, dtype=None) - return an array with all the element of 'value'\n",
    "# numpy.logical_and(arr1, arr2) - return If the elements of arr1 and elements of arr2 are logically 'and'ed\n",
    "# numpy.logical_not(arr1, arr2) - return if the elements of arr1 and elements of arr2 is 'not'ed\n",
    "# numpy.logical_xor(arr1, arr2) - return if the element of arr1 and elements of arr2 is 'XoR'ed\n",
    "# numpy.degrees(arr1) -convert to an array elements into an degrees\n",
    "# numpy.radians(arr1) - convert to an array elements into an radian\n",
    "# numpy.array_equal()\n",
    "# numpy.array_equiv()\n",
    "# numpy.ceil()\n",
    "# numpy.floor()"
   ]
  },
  {
   "cell_type": "code",
   "execution_count": 3,
   "metadata": {},
   "outputs": [
    {
     "name": "stdout",
     "output_type": "stream",
     "text": [
      "\n",
      " numpy.arange() function:\n",
      " [[0 1]\n",
      " [2 3]] \n",
      "\n"
     ]
    }
   ],
   "source": [
    "# numpy.arange([start,]stop[,step][dtype]) - returns an array with evenly spaced elements as per interval\n",
    "\n",
    "import numpy as np\n",
    "print(\"\\n numpy.arange() function:\\n\", np.arange(4).reshape(2, 2), \"\\n\")"
   ]
  },
  {
   "cell_type": "code",
   "execution_count": 4,
   "metadata": {},
   "outputs": [
    {
     "name": "stdout",
     "output_type": "stream",
     "text": [
      "\n",
      " numpy.arange() function:\n",
      " [4 5 6 7 8 9] \n",
      "\n"
     ]
    }
   ],
   "source": [
    "print(\"\\n numpy.arange() function:\\n\", np.arange(4, 10), \"\\n\")"
   ]
  },
  {
   "cell_type": "code",
   "execution_count": 5,
   "metadata": {},
   "outputs": [
    {
     "name": "stdout",
     "output_type": "stream",
     "text": [
      "\n",
      " numpy.arange() function:\n",
      " [ 4  7 10 13 16 19]\n"
     ]
    }
   ],
   "source": [
    "# np.arange(start, stop, interval); It prints the number from 4 to 20 and it has an interval of 3\n",
    "print(\"\\n numpy.arange() function:\\n\", np.arange(4, 20, 3))"
   ]
  },
  {
   "cell_type": "code",
   "execution_count": 6,
   "metadata": {},
   "outputs": [
    {
     "name": "stdout",
     "output_type": "stream",
     "text": [
      "\n",
      "The dot_product_a_b: 32.0\n"
     ]
    }
   ],
   "source": [
    "arr_a = np.array([1, 2,3], dtype=float)\n",
    "arr_b = np.array([4, 5, 6], dtype=float)\n",
    "dot_product_a_b = np.dot(arr_a, arr_b)\n",
    "print(\"\\nThe dot_product_a_b:\", dot_product_a_b)"
   ]
  },
  {
   "cell_type": "code",
   "execution_count": 7,
   "metadata": {},
   "outputs": [
    {
     "name": "stdout",
     "output_type": "stream",
     "text": [
      "The original array:\n",
      " [[ 0  1  2  3]\n",
      " [ 4  5  6  7]\n",
      " [ 8  9 10 11]]\n"
     ]
    }
   ],
   "source": [
    "# numpy.place(input_arr, mask, values)\n",
    "# input_array - this is array which has to changed.\n",
    "# mask - the size of input array and the boolean that must have the same size of input_array\n",
    "# values - to put into the array, based on mask condition it adds only N elements to the array, If in case values in val are smaller than the mast, same value repeated.\n",
    "\n",
    "import numpy as np\n",
    "or_arr = np.arange(12).reshape(3, 4)\n",
    "print(\"The original array:\\n\", or_arr)"
   ]
  },
  {
   "cell_type": "code",
   "execution_count": 8,
   "metadata": {},
   "outputs": [
    {
     "name": "stdout",
     "output_type": "stream",
     "text": [
      "New array:\n",
      " [[ 0  1  2  3]\n",
      " [ 4  5  5 12]\n",
      " [23  5 12 23]]\n"
     ]
    }
   ],
   "source": [
    "# np.place(or_arr(input_array), mask(condition which satify to all), values(which placed in input_array after checking the mask/conditions))\n",
    "a = np.place(or_arr, or_arr>5, [5, 12, 23])\n",
    "print(\"New array:\\n\", or_arr)"
   ]
  },
  {
   "cell_type": "code",
   "execution_count": 9,
   "metadata": {},
   "outputs": [
    {
     "name": "stdout",
     "output_type": "stream",
     "text": [
      "The numpy.vdot(): 70.0\n",
      "The numpy.vot():\n",
      " [[15. 18.]\n",
      " [42. 51.]]\n"
     ]
    }
   ],
   "source": [
    "# numpy.vdot(); used to dotproduct but in flatten array\n",
    "import numpy as np\n",
    "a = np.array([[1, 2], [4, 5]], dtype=float)\n",
    "b = np.array([[3, 4], [6, 7]], dtype= float)\n",
    "print(\"The numpy.vdot():\", np.vdot(a, b))\n",
    "print(\"The numpy.vot():\\n\", np.dot(a, b))"
   ]
  },
  {
   "cell_type": "code",
   "execution_count": 10,
   "metadata": {},
   "outputs": [],
   "source": [
    "# numpy.extract(input_array,condition) - used to extract the element from an input_array\n",
    "import numpy as np\n",
    "input_arr = np.arange(10).reshape(2, 5)"
   ]
  },
  {
   "cell_type": "code",
   "execution_count": 11,
   "metadata": {},
   "outputs": [
    {
     "data": {
      "text/plain": [
       "array([[0, 1, 2, 3, 4],\n",
       "       [5, 6, 7, 8, 9]])"
      ]
     },
     "execution_count": 11,
     "metadata": {},
     "output_type": "execute_result"
    }
   ],
   "source": [
    "input_arr"
   ]
  },
  {
   "cell_type": "code",
   "execution_count": 12,
   "metadata": {},
   "outputs": [
    {
     "name": "stdout",
     "output_type": "stream",
     "text": [
      "The condition is: [[False  True  True  True False]\n",
      " [ True  True  True False  True]]\n"
     ]
    }
   ],
   "source": [
    "condition = np.mod(input_arr, 4)!=0\n",
    "print(\"The condition is:\", condition)"
   ]
  },
  {
   "cell_type": "code",
   "execution_count": 13,
   "metadata": {},
   "outputs": [
    {
     "name": "stdout",
     "output_type": "stream",
     "text": [
      "[ True  True  True False  True  True  True False  True]\n"
     ]
    }
   ],
   "source": [
    "print(np.extract(input_arr, condition))"
   ]
  },
  {
   "cell_type": "code",
   "execution_count": 14,
   "metadata": {},
   "outputs": [
    {
     "name": "stdout",
     "output_type": "stream",
     "text": [
      "\n",
      "New array:\n",
      " [[5 6 2 7 1]\n",
      " [4 9 2 9 3]]\n",
      "\n",
      "Taking indices\\:\n",
      " [5 1]\n",
      "\n",
      "Taking indices along the column axis:\n",
      " [[5 1]\n",
      " [4 3]]\n",
      "\n",
      "Taking indices along the row axis:\n",
      " [[5 6 2 7 1]\n",
      " [4 9 2 9 3]]\n"
     ]
    }
   ],
   "source": [
    "import numpy as np\n",
    "new_arr = np.array([[5, 6, 2, 7, 1], [4, 9, 2, 9, 3]])\n",
    "print(\"\\nNew array:\\n\", new_arr)\n",
    "print(\"\\nTaking indices\\:\\n\", np.take(new_arr, [0, 4]))\n",
    "print(\"\\nTaking indices along the column axis:\\n\",np.take(new_arr, [0, 4], axis=1))\n",
    "print(\"\\nTaking indices along the row axis:\\n\",np.take(new_arr, [0, 1], axis=0))"
   ]
  },
  {
   "cell_type": "code",
   "execution_count": 15,
   "metadata": {},
   "outputs": [
    {
     "name": "stdout",
     "output_type": "stream",
     "text": [
      "The truncated array is: [0. 9. 4. 6. 7.]\n"
     ]
    }
   ],
   "source": [
    "# np.trunc() use to return the truncated value of each element in array\n",
    "# the truncated value comes nearest to 0\n",
    "input_arr = np.array([0.5, 9.0, 4.5, 6.76, 7.89])\n",
    "print(\"The truncated array is:\", np.trunc(input_arr))"
   ]
  },
  {
   "cell_type": "code",
   "execution_count": 16,
   "metadata": {},
   "outputs": [
    {
     "name": "stdout",
     "output_type": "stream",
     "text": [
      "The truncated array is: [0. 9. 4. 6. 7.]\n"
     ]
    }
   ],
   "source": [
    "input_arr = np.array([0.9, 9.0, 4.5, 6.76, 7.89])\n",
    "print(\"The truncated array is:\", np.trunc(input_arr))"
   ]
  },
  {
   "cell_type": "code",
   "execution_count": 17,
   "metadata": {},
   "outputs": [
    {
     "name": "stdout",
     "output_type": "stream",
     "text": [
      "The replaced array is: [10.  2.  3.  3. 10.  5.  5.]\n"
     ]
    }
   ],
   "source": [
    "# np.put(array, indices, p_array) used to replace the specific elements of an array with the given value\n",
    "input_array = np.array([1, 2, 3, 3, 4, 5, 5], dtype=float)\n",
    "np.put(input_array, [0, 4], [10, 10], mode='clip' )\n",
    "print(\"The replaced array is:\", input_array)"
   ]
  },
  {
   "cell_type": "code",
   "execution_count": 18,
   "metadata": {},
   "outputs": [
    {
     "name": "stdout",
     "output_type": "stream",
     "text": [
      "\n",
      "Input array:\n",
      " [[0.21572533 0.11206156 0.2098307  0.34527106 0.4048616 ]\n",
      " [0.23405631 0.70662158 0.66907996 0.06030198 0.55017582]]\n",
      "Compressed array:\n",
      " [0.21572533 0.11206156]\n"
     ]
    }
   ],
   "source": [
    "# numpy.compress(condition, array, axis=None, out=None)\n",
    "input_arr = np.random.random(10).reshape(2, 5)\n",
    "print(\"\\nInput array:\\n\", input_arr)\n",
    "print(\"Compressed array:\\n\", np.compress([1, 3], input_arr, axis=None))"
   ]
  },
  {
   "cell_type": "code",
   "execution_count": 19,
   "metadata": {},
   "outputs": [
    {
     "name": "stdout",
     "output_type": "stream",
     "text": [
      "The divided array elements:\n",
      " [1.  1.5 2.  2.5 3. ]\n",
      "The divided array with 0 in elements of array: [inf 1.5 2.  2.5 3. ]\n"
     ]
    },
    {
     "name": "stderr",
     "output_type": "stream",
     "text": [
      "C:\\Users\\uib43225\\.conda\\envs\\fusion\\lib\\site-packages\\ipykernel_launcher.py:8: RuntimeWarning: divide by zero encountered in true_divide\n",
      "  \n"
     ]
    }
   ],
   "source": [
    "# numpy.divide(arr1, arr2, out=None, where=True, casting='same_kind', order='K', dtype=None)\n",
    "# arr1, arr2 should have same shape, and arr2 should not contain 0\n",
    "\n",
    "arr1 = np.array([2, 3, 4, 5, 6], dtype=float)\n",
    "arr2 = np.array([2, 2, 2, 2, 2], dtype=float)\n",
    "print(\"The divided array elements:\\n\", np.divide(arr1, arr2))\n",
    "arr2 = np.array([0, 2, 2, 2, 2], dtype=float)\n",
    "print(\"The divided array with 0 in elements of array:\", np.divide(arr1, arr2))"
   ]
  },
  {
   "cell_type": "code",
   "execution_count": 20,
   "metadata": {},
   "outputs": [
    {
     "name": "stdout",
     "output_type": "stream",
     "text": [
      "Use of args: [3, 4, 5, 6, 7]\n",
      "in1: geeks\n",
      "in2: No\n",
      "in3: 1\n"
     ]
    }
   ],
   "source": [
    "# numpy.apply_along_axis(1d_func, axis, *args, **kwargs) - help us to apply a required function to 1D slices of the given array\n",
    "args =[3, 8]\n",
    "# *args allow to send non-keyword variable length argument list to the function\n",
    "a = list(range(*args))\n",
    "print(\"Use of args:\", a)\n",
    "# **kwargs()- allows you to pass keyword variable length of argument to a function, used when we handle named argument in the function\n",
    "\n",
    "def test_kwargs_argument(in1, in2, in3):\n",
    "    print(\"in1:\", in1)\n",
    "    print(\"in2:\", in2)\n",
    "    print(\"in3:\", in3)\n",
    "\n",
    "kwargs = {\"in3\": 1, \"in2\": \"No\", \"in1\":\"geeks\"}\n",
    "test_kwargs_argument(**kwargs)"
   ]
  },
  {
   "cell_type": "code",
   "execution_count": 21,
   "metadata": {},
   "outputs": [
    {
     "name": "stdout",
     "output_type": "stream",
     "text": [
      "The initial array is:\n",
      " [[0 1 2 3 4]\n",
      " [5 6 7 8 9]]\n",
      "The new array axis=0:\n",
      " [ 5  7  9 11 13]\n",
      "The new array axis=1:\n",
      " [ 4 14]\n",
      "The new array after using sorted function to axis=1:\n",
      " [[0 1 2 3 4]\n",
      " [5 6 7 8 9]]\n"
     ]
    }
   ],
   "source": [
    "def func1(array):\n",
    "    return array[0]+array[-1]\n",
    "\n",
    "array = np.arange(10).reshape(2, 5)\n",
    "print(\"The initial array is:\\n\", array)\n",
    "\n",
    "new_array = np.apply_along_axis(func1, 0, array)\n",
    "print(\"The new array axis=0:\\n\", new_array)\n",
    "\n",
    "new_array = np.apply_along_axis(func1, 1, array)\n",
    "print(\"The new array axis=1:\\n\", new_array)\n",
    "\n",
    "new_array = np.apply_along_axis(sorted, 1, array)\n",
    "print(\"The new array after using sorted function to axis=1:\\n\", new_array)"
   ]
  },
  {
   "cell_type": "code",
   "execution_count": 22,
   "metadata": {},
   "outputs": [
    {
     "name": "stdout",
     "output_type": "stream",
     "text": [
      "Rotated array after 2 times:\n",
      " [[0.18705219 0.80023001 0.79530215 0.74943089 0.96796631]\n",
      " [0.88917934 0.67265927 0.58773703 0.58844153 0.06032712]]\n",
      "Rotated array after 4 times:\n",
      " [[0.06032712 0.58844153 0.58773703 0.67265927 0.88917934]\n",
      " [0.96796631 0.74943089 0.79530215 0.80023001 0.18705219]]\n"
     ]
    }
   ],
   "source": [
    "# numpy.rot90(array, k(no of times to rotate), axes=(0,1 )) method perfroms rotation of an array by 90 degree\n",
    "import numpy as np\n",
    "input_arr = np.random.random(10).reshape(2, 5)\n",
    "\n",
    "print(\"Rotated array after 2 times:\\n\", np.rot90(input_arr, 2))\n",
    "print(\"Rotated array after 4 times:\\n\", np.rot90(input_arr, 4))\n"
   ]
  },
  {
   "cell_type": "code",
   "execution_count": 23,
   "metadata": {},
   "outputs": [
    {
     "name": "stdout",
     "output_type": "stream",
     "text": [
      "arr1         :  [2, 6.5, 21, 21, 12]\n",
      "arr2         :  [2, 3, 4.4, -3.2, 5]\n",
      "\n",
      "Output floor_divide array :  [ 1.  2.  4. -7.  2.]\n",
      "\n",
      "Output true_division array :  [ 1.          2.16666667  4.77272727 -6.5625      2.4       ]\n"
     ]
    }
   ],
   "source": [
    "# numpy.floor_divide(arr1, arr2)\n",
    "import numpy as np \n",
    "  \n",
    "# input_array \n",
    "arr1 = [2, 6.5, 21, 21, 12] \n",
    "arr2 = [2, 3, 4.4, -3.2, 5] \n",
    "print (\"arr1         : \", arr1) \n",
    "print (\"arr2         : \", arr2) \n",
    "  \n",
    "# output_array \n",
    "out_floor_divide = np.floor_divide(arr1, arr2, dtype=float) \n",
    "print (\"\\nOutput floor_divide array : \", out_floor_divide) \n",
    "\n",
    "out_true_divide = np.true_divide(arr1, arr2, dtype=float)\n",
    "print (\"\\nOutput true_division array : \", out_true_divide) "
   ]
  },
  {
   "cell_type": "code",
   "execution_count": 27,
   "metadata": {},
   "outputs": [
    {
     "name": "stdout",
     "output_type": "stream",
     "text": [
      "The input_array:\n",
      " [[0.67070586 0.51197767 0.22657068 0.31465612 0.01935131]\n",
      " [0.86094606 0.28455427 0.27101833 0.89932245 0.21709136]\n",
      " [0.31732105 0.00351784 0.88815471 0.60306628 0.46086385]\n",
      " [0.83945121 0.53461411 0.61124924 0.86284337 0.18565765]]\n",
      "Apply func over axes: [[0.86094606 0.53461411 0.88815471 0.89932245 0.46086385]]\n"
     ]
    }
   ],
   "source": [
    "# numpy.apply_over_axes(func, array,axes)\n",
    "input_arr = np.random.random(20).reshape(4, 5)\n",
    "print(\"The input_array:\\n\", input_arr)\n",
    "print(\"Apply func over axes:\", np.apply_over_axes(np.max, input_arr, axes=0))"
   ]
  },
  {
   "cell_type": "code",
   "execution_count": 28,
   "metadata": {},
   "outputs": [
    {
     "name": "stdout",
     "output_type": "stream",
     "text": [
      "New array after tile 2 times: [1 2 3 4 1 2 3 4]\n",
      "The size of arr2:\n",
      " [[0 1]\n",
      " [2 3]] (2, 2)\n",
      "New array after tile 3 times:\n",
      " [[0 1 0 1 0 1]\n",
      " [2 3 2 3 2 3]] (2, 6)\n"
     ]
    }
   ],
   "source": [
    "# numpy.tile(arr, repetitions)\n",
    "import numpy as np\n",
    "arr1 = np.array([1, 2, 3, 4])\n",
    "print(\"New array after tile 2 times:\", np.tile(arr1, 2))\n",
    "arr2 = np.arange(4).reshape(2, 2)\n",
    "print(\"The size of arr2:\\n\", arr2, arr2.shape)\n",
    "print(\"New array after tile 3 times:\\n\", np.tile(arr2, 3),np.tile(arr2, 3).shape )"
   ]
  },
  {
   "cell_type": "code",
   "execution_count": 29,
   "metadata": {},
   "outputs": [
    {
     "name": "stdout",
     "output_type": "stream",
     "text": [
      "\n",
      "The initial array is:\n",
      " [[0.64613613 0.76164194 0.99018613 0.37535113 0.55263762]\n",
      " [0.31597277 0.00746557 0.0538908  0.75470474 0.7414404 ]\n",
      " [0.51909132 0.88040038 0.4401489  0.13677483 0.51288027]\n",
      " [0.15205435 0.68332007 0.43642789 0.93096855 0.95071686]\n",
      " [0.90792892 0.50683742 0.0694097  0.927125   0.26496601]]\n",
      "The argmin() function in an array rowaxes:\n",
      " [3 1 1 2 4]\n",
      "The argmin() function in an array colaxes:\n",
      " [3 1 3 0 2]\n",
      "The argmax() function in an array rowaxes:\n",
      " [4 2 0 3 3]\n",
      "The argmax() function in an array colaxes:\n",
      " [2 3 1 4 3]\n"
     ]
    }
   ],
   "source": [
    "import numpy as np\n",
    "\n",
    "arr1 = np.random.random(25).reshape(5, 5)\n",
    "print(\"\\nThe initial array is:\\n\", arr1)\n",
    "\n",
    "print(\"The argmin() function in an array rowaxes:\\n\", np.argmin(arr1, axis=0))\n",
    "print(\"The argmin() function in an array colaxes:\\n\", np.argmin(arr1, axis=1))\n",
    "\n",
    "print(\"The argmax() function in an array rowaxes:\\n\", np.argmax(arr1, axis=0))\n",
    "print(\"The argmax() function in an array colaxes:\\n\", np.argmax(arr1, axis=1))"
   ]
  },
  {
   "cell_type": "code",
   "execution_count": 30,
   "metadata": {},
   "outputs": [
    {
     "name": "stdout",
     "output_type": "stream",
     "text": [
      "The flatten array using numpy.ravel():\n",
      " [0.64613613 0.76164194 0.99018613 0.37535113 0.55263762 0.31597277\n",
      " 0.00746557 0.0538908  0.75470474 0.7414404  0.51909132 0.88040038\n",
      " 0.4401489  0.13677483 0.51288027 0.15205435 0.68332007 0.43642789\n",
      " 0.93096855 0.95071686 0.90792892 0.50683742 0.0694097  0.927125\n",
      " 0.26496601]\n",
      "The flatten array using numpy.ravel():\n",
      " [0.64613613 0.31597277 0.51909132 0.15205435 0.90792892 0.76164194\n",
      " 0.00746557 0.88040038 0.68332007 0.50683742 0.99018613 0.0538908\n",
      " 0.4401489  0.43642789 0.0694097  0.37535113 0.75470474 0.13677483\n",
      " 0.93096855 0.927125   0.55263762 0.7414404  0.51288027 0.95071686\n",
      " 0.26496601]\n",
      "The flatten array using numpy.ravel():\n",
      " [0.64613613 0.76164194 0.99018613 0.37535113 0.55263762 0.31597277\n",
      " 0.00746557 0.0538908  0.75470474 0.7414404  0.51909132 0.88040038\n",
      " 0.4401489  0.13677483 0.51288027 0.15205435 0.68332007 0.43642789\n",
      " 0.93096855 0.95071686 0.90792892 0.50683742 0.0694097  0.927125\n",
      " 0.26496601]\n"
     ]
    }
   ],
   "source": [
    "# numpy.ravel() returns the flatten array\n",
    "# order ='C' - operating row-wise on the array will be slightly fast\n",
    "print(\"The flatten array using numpy.ravel():\\n\", np.ravel(arr1, order='C'))\n",
    "# order ='F' - operating col-wise on the array will be slightly fast\n",
    "print(\"The flatten array using numpy.ravel():\\n\", np.ravel(arr1, order='F'))\n",
    "# order ='F' - operating read/write the elements on the array will be slightly fast\n",
    "print(\"The flatten array using numpy.ravel():\\n\", np.ravel(arr1, order='A'))"
   ]
  },
  {
   "cell_type": "code",
   "execution_count": 31,
   "metadata": {},
   "outputs": [
    {
     "name": "stdout",
     "output_type": "stream",
     "text": [
      "New random array: [0.0505445  0.68511876 0.39337507 0.15716077 0.00332674]\n",
      "New random array: [0.46711775 0.46620907 0.07138424 0.69314388 0.8177377 ]\n"
     ]
    }
   ],
   "source": [
    "print(\"New random array:\", np.random.rand(5)) # 'Normal distribution, mean=0 and variance=1\n",
    "print(\"New random array:\", np.random.random(5))"
   ]
  },
  {
   "cell_type": "code",
   "execution_count": 32,
   "metadata": {},
   "outputs": [
    {
     "name": "stdout",
     "output_type": "stream",
     "text": [
      "\n",
      "The generated array:\n",
      " [nan, 4, 2, 3, 1]\n",
      "\n",
      "The generated array:\n",
      " [[nan  4.]\n",
      " [ 1.  3.]]\n",
      "\n",
      "The nanargmin() in array axis =0:\n",
      " 4\n",
      "\n",
      "The nanargmax() in array axis =1:\n",
      " 1\n",
      "\n",
      "The nanargmin() in array axis =0:\n",
      " [1 1]\n",
      "\n",
      "The nanargmin() in array axis =1:\n",
      " [1 0]\n",
      "\n",
      "The nanargmax() in array axis =0:\n",
      " [1 0]\n",
      "\n",
      "The nanargmax() in array axis =1:\n",
      " [1 1]\n"
     ]
    }
   ],
   "source": [
    "import numpy as np\n",
    "array = [np.nan, 4, 2, 3, 1]\n",
    "# array = np.array(array).reshape(4, 3)\n",
    "array2 = np.array([[np.nan,4], [1, 3]])\n",
    "print(\"\\nThe generated array:\\n\",array)\n",
    "print(\"\\nThe generated array:\\n\",array2)\n",
    "print(\"\\nThe nanargmin() in array axis =0:\\n\", np.nanargmin(array))\n",
    "print(\"\\nThe nanargmax() in array axis =1:\\n\", np.nanargmax(array))\n",
    "print(\"\\nThe nanargmin() in array axis =0:\\n\", np.nanargmin(array2, axis=0))\n",
    "print(\"\\nThe nanargmin() in array axis =1:\\n\", np.nanargmin(array2, axis=1))\n",
    "print(\"\\nThe nanargmax() in array axis =0:\\n\", np.nanargmax(array2, axis=0))\n",
    "print(\"\\nThe nanargmax() in array axis =1:\\n\", np.nanargmax(array2, axis=1))"
   ]
  },
  {
   "cell_type": "code",
   "execution_count": 33,
   "metadata": {},
   "outputs": [
    {
     "name": "stdout",
     "output_type": "stream",
     "text": [
      "The np.isinf(): True\n",
      "The np.isinf(): True\n",
      "The np.isinf(): False\n"
     ]
    }
   ],
   "source": [
    "# np.isinf()\n",
    "print(\"The np.isinf():\", np.isinf(np.inf))\n",
    "print(\"The np.isinf():\", np.isinf(np.NINF))\n",
    "print(\"The np.isinf():\", np.isinf(1))"
   ]
  },
  {
   "cell_type": "code",
   "execution_count": 34,
   "metadata": {},
   "outputs": [
    {
     "name": "stdout",
     "output_type": "stream",
     "text": [
      "New array:\n",
      " [[[ 0  1  2  3  4]\n",
      "  [ 5  6  7  8  9]]\n",
      "\n",
      " [[10 11 12 13 14]\n",
      "  [15 16 17 18 19]]\n",
      "\n",
      " [[20 21 22 23 24]\n",
      "  [25 26 27 28 29]]\n",
      "\n",
      " [[30 31 32 33 34]\n",
      "  [35 36 37 38 39]]]\n",
      "Flattening the array:\n",
      " [2 3 4 5 6 7]\n",
      "Flattening the array:\n",
      " [ 0  1  2  3  4  5  6  7  8  9 10 11]\n"
     ]
    }
   ],
   "source": [
    "array = np.arange(40).reshape(4, 2, 5) \n",
    "print(\"New array:\\n\", array)\n",
    "print(\"Flattening the array:\\n\", array.flat[2:8])\n",
    "print(\"Flattening the array:\\n\", array.flat[0:12])"
   ]
  },
  {
   "cell_type": "code",
   "execution_count": 35,
   "metadata": {},
   "outputs": [
    {
     "name": "stdout",
     "output_type": "stream",
     "text": [
      "numpy.isrealobj():\n",
      " True\n",
      "The new generated array: [[ 0.+0.j  1.+0.j  2.+0.j  3.+0.j  4.+0.j]\n",
      " [ 5.+0.j  6.+0.j  7.+0.j  8.+0.j  9.+0.j]\n",
      " [10.+0.j 11.+0.j 12.+0.j 13.+0.j 14.+0.j]\n",
      " [15.+0.j 16.+0.j 17.+0.j 18.+0.j 19.+0.j]]\n",
      "Check whether the array element has real or complex element:\n",
      " False\n",
      "Check whether the array element has real or complex element:\n",
      " True\n"
     ]
    }
   ],
   "source": [
    "# numpy.isrealobj() - function which used to identify the element in an array is complex or real?\n",
    "print(\"numpy.isrealobj():\\n\", np.isrealobj(array))\n",
    "\n",
    "new_array = np.arange(20, dtype=complex).reshape(4, 5)\n",
    "print(\"The new generated array:\", new_array)\n",
    "print(\"Check whether the array element has real or complex element:\\n\", np.isrealobj(new_array))\n",
    "print(\"Check whether the array element has real or complex element:\\n\", np.iscomplexobj(new_array))"
   ]
  },
  {
   "cell_type": "code",
   "execution_count": 36,
   "metadata": {},
   "outputs": [
    {
     "name": "stdout",
     "output_type": "stream",
     "text": [
      "The numpy.expm1():\n",
      " [ 1.71828183  6.3890561  19.08553692  1.71828183  6.3890561 ]\n"
     ]
    }
   ],
   "source": [
    "# numpy.expm1 - a mathematical function helps user to calculate exponential of all elements subtracting 1 from all the input array elements\n",
    "array = np.array([1, 2, 3, 1, 2])\n",
    "print(\"The numpy.expm1():\\n\", np.expm1(array))"
   ]
  },
  {
   "cell_type": "code",
   "execution_count": 37,
   "metadata": {},
   "outputs": [
    {
     "name": "stdout",
     "output_type": "stream",
     "text": [
      "\n",
      "The generated array:\n",
      " [[0.38126972 0.88580956 0.68211942 0.33769166 0.65908809]\n",
      " [0.19125298 0.08127816 0.03845051 0.68164844 0.27339712]\n",
      " [0.49123114 0.90045668 0.39507272 0.30185166 0.26421628]\n",
      " [0.42026105 0.42642213 0.85054282 0.3755944  0.6830326 ]]\n",
      "numpy.amax() find the max of all array elements:\n",
      " [0.49123114 0.90045668 0.85054282 0.68164844 0.6830326 ]\n",
      "numpy.amax() find the min of all array elements:\n",
      " [0.19125298 0.08127816 0.03845051 0.30185166 0.26421628]\n",
      "numpy.amax() find the max of all array elements:\n",
      " [0.88580956 0.68164844 0.90045668 0.85054282]\n",
      "numpy.amax() find the max of all array elements:\n",
      " [0.33769166 0.03845051 0.26421628 0.3755944 ]\n"
     ]
    }
   ],
   "source": [
    "array = np.random.random(20).reshape(4, 5)\n",
    "print(\"\\nThe generated array:\\n\", array )\n",
    "print(\"numpy.amax() find the max of all array elements:\\n\", np.amax(array, axis=0))\n",
    "print(\"numpy.amax() find the min of all array elements:\\n\", np.amin(array, axis=0))\n",
    "print(\"numpy.amax() find the max of all array elements:\\n\", np.amax(array, axis=1))\n",
    "print(\"numpy.amax() find the max of all array elements:\\n\", np.amin(array, axis=1))"
   ]
  },
  {
   "cell_type": "code",
   "execution_count": 38,
   "metadata": {},
   "outputs": [
    {
     "name": "stdout",
     "output_type": "stream",
     "text": [
      "The number is scalar (7):\n",
      " True\n",
      "The number is scalar [7]:\n",
      " False\n"
     ]
    }
   ],
   "source": [
    "# np.isscalar(num) - returns true if type of input num is scalar\n",
    "print(\"The number is scalar (7):\\n\", np.isscalar(7))\n",
    "print(\"The number is scalar [7]:\\n\", np.isscalar([7]))"
   ]
  },
  {
   "cell_type": "code",
   "execution_count": 39,
   "metadata": {},
   "outputs": [
    {
     "name": "stdout",
     "output_type": "stream",
     "text": [
      "The input_array1:\n",
      " [1 2 3 1 1 2 2 1 3 4 4 1 1 3]\n",
      "The randomly shuffled array:\n",
      " [1 1 1 2 1 1 3 3 1 2 2 4 3 4]\n"
     ]
    }
   ],
   "source": [
    "# numpy.random.shuffle() - modify a sequence in-place by shuffling the elements\n",
    "input_arr_1 = np.array([1, 2, 3, 1, 1, 2, 2, 1, 3, 4, 4, 1, 1, 3])\n",
    "print(\"The input_array1:\\n\", input_arr_1)\n",
    "np.random.shuffle(input_arr_1)\n",
    "print(\"The randomly shuffled array:\\n\", input_arr_1)"
   ]
  },
  {
   "cell_type": "code",
   "execution_count": 40,
   "metadata": {},
   "outputs": [
    {
     "name": "stdout",
     "output_type": "stream",
     "text": [
      "\n",
      "The input_array_1:\n",
      " [ 1  2  3  1  1  2  2  1  3  1 22  1  1  3]\n",
      "\n",
      "The input_array_1:\n",
      " [1 2 3 1 1 2 2 1 3 4 4 1 1 3]\n",
      "Numpy.bincount() of array2: [0 6 3 3 2]\n",
      "Numpy.bincount() of array1: [0 7 3 3 0 0 0 0 0 0 0 0 0 0 0 0 0 0 0 0 0 0 1]\n",
      "Numpy.bincount() of both: [ 0. 10.  6.  9.  0.  0.  0.  0.  0.  0.  0.  0.  0.  0.  0.  0.  0.  0.\n",
      "  0.  0.  0.  0.  4.]\n"
     ]
    }
   ],
   "source": [
    "# np.bincount(arr) - return the count of each occurenece of each elements, each bin value is the occurence of its index\n",
    "input_arr_2 = np.array([1, 2, 3, 1, 1, 2, 2, 1, 3, 4, 4, 1, 1, 3])\n",
    "input_arr_1 = np.array([1, 2, 3, 1, 1, 2, 2, 1, 3, 4, 4, 1, 1, 3])\n",
    "np.place(input_arr_1, input_arr_1>3, [1, 22, 23])\n",
    "\n",
    "print(\"\\nThe input_array_1:\\n\", input_arr_1)\n",
    "print(\"\\nThe input_array_1:\\n\", input_arr_2)\n",
    "\n",
    "print(\"Numpy.bincount() of array2:\", np.bincount(input_arr_2))\n",
    "print(\"Numpy.bincount() of array1:\", np.bincount(input_arr_1))\n",
    "print(\"Numpy.bincount() of both:\", np.bincount(input_arr_1, input_arr_2))\n",
    "# It added the occurence of elements in an array from both array"
   ]
  },
  {
   "cell_type": "code",
   "execution_count": 41,
   "metadata": {},
   "outputs": [
    {
     "name": "stdout",
     "output_type": "stream",
     "text": [
      "Check If this two array is equal or not:\n",
      " [False False False False]\n",
      "Check If this two array is equal or not:\n",
      " [ True  True  True  True]\n"
     ]
    }
   ],
   "source": [
    "arr1 = np.array([1, 2, 3, 4])\n",
    "arr2 = np.array([4, 5, 6, 7])\n",
    "# np.equal(arr1, arr2)\n",
    "# np.not_equal(arr1, arr2)\n",
    "print(\"Check If this two array is equal or not:\\n\", np.equal(arr1, arr2))\n",
    "print(\"Check If this two array is equal or not:\\n\", np.not_equal(arr1, arr2))"
   ]
  },
  {
   "cell_type": "code",
   "execution_count": 42,
   "metadata": {},
   "outputs": [
    {
     "name": "stdout",
     "output_type": "stream",
     "text": [
      "Cheking element wise array is complex or not?:\n",
      " [False False False False]\n"
     ]
    }
   ],
   "source": [
    "print(\"Cheking element wise array is complex or not?:\\n\", np.iscomplex(arr1))"
   ]
  },
  {
   "cell_type": "code",
   "execution_count": 43,
   "metadata": {},
   "outputs": [
    {
     "name": "stdout",
     "output_type": "stream",
     "text": [
      "Check the array is +ve inf: [ True False False False False]\n",
      "Check the array is +ve inf: [False False False False  True]\n"
     ]
    }
   ],
   "source": [
    "# np.isposinf(array) -function check element wise array is +ve infinity or not\n",
    "array =[np.inf, 0 , 9, 8, np.NINF]\n",
    "print(\"Check the array is +ve inf:\", np.isposinf(array))\n",
    "print(\"Check the array is +ve inf:\", np.isneginf(array))"
   ]
  },
  {
   "cell_type": "code",
   "execution_count": 44,
   "metadata": {},
   "outputs": [
    {
     "name": "stdout",
     "output_type": "stream",
     "text": [
      "\n",
      "The array is:\n",
      " [[0.49033235 0.47469822 0.12394415 0.38330593 0.62708601]\n",
      " [0.23613064 0.99987497 0.80346095 0.02556525 0.57841999]]\n",
      "\n",
      "Getting rounding off an array element:\n",
      " [[0. 0. 0. 0. 1.]\n",
      " [0. 1. 1. 0. 1.]]\n"
     ]
    }
   ],
   "source": [
    "array = np.random.random(10).reshape(2, 5)\n",
    "print(\"\\nThe array is:\\n\", array)\n",
    "print(\"\\nGetting rounding off an array element:\\n\", np.rint(array))"
   ]
  },
  {
   "cell_type": "code",
   "execution_count": 45,
   "metadata": {},
   "outputs": [
    {
     "name": "stdout",
     "output_type": "stream",
     "text": [
      "The input array is:\n",
      " [ 0  1  2  3  4  5  6  7  8  9 10 11]\n"
     ]
    },
    {
     "data": {
      "text/plain": [
       "array([[  0,   1,   2,   3],\n",
       "       [-10, -10, -10, -10],\n",
       "       [  4,   5,   6,   7],\n",
       "       [  8,   9,  10,  11]])"
      ]
     },
     "execution_count": 45,
     "metadata": {},
     "output_type": "execute_result"
    }
   ],
   "source": [
    "# numpy.insert(array, object(subarray), values, axis=None)\n",
    "import numpy as np\n",
    "input_arr = np.arange(12).reshape(3, 4)\n",
    "print(\"The input array is:\\n\", input_arr.flatten())\n",
    "np.insert(input_arr,1, -10, axis=0) # inserting -10 along axis=0 before index '1'"
   ]
  },
  {
   "cell_type": "code",
   "execution_count": 46,
   "metadata": {},
   "outputs": [
    {
     "data": {
      "text/plain": [
       "array([[ 0,  1,  2,  3],\n",
       "       [ 8,  9, 10, 11]])"
      ]
     },
     "execution_count": 46,
     "metadata": {},
     "output_type": "execute_result"
    }
   ],
   "source": [
    "# np.delete(array,object(index), axis=NOne) - deletes the element in an array to the particula indics\n",
    "np.delete(input_arr, 1, axis=0)"
   ]
  },
  {
   "cell_type": "code",
   "execution_count": 47,
   "metadata": {},
   "outputs": [
    {
     "name": "stdout",
     "output_type": "stream",
     "text": [
      "New inserting array is:\n",
      " [[ 0  1  2  3]\n",
      " [ 6  6  6  6]\n",
      " [ 9  9  9  9]\n",
      " [ 4  5  6  7]\n",
      " [ 8  9 10 11]]\n"
     ]
    }
   ],
   "source": [
    "# Working with scalars\n",
    "a = np.insert(input_arr, [1], [[6], [9], ], axis=0)\n",
    "# inserting two sets of value 6, 9 before [1] indices row wise\n",
    "print(\"New inserting array is:\\n\", a)"
   ]
  },
  {
   "cell_type": "code",
   "execution_count": 48,
   "metadata": {},
   "outputs": [
    {
     "name": "stdout",
     "output_type": "stream",
     "text": [
      "Input_array:\n",
      " [[ 0  1  2  3]\n",
      " [ 4  5  6  7]\n",
      " [ 8  9 10 11]]\n",
      "After Inserting an value along axis=1:\n",
      " [[  0   6   1   2   3]\n",
      " [  4   9   5   6   7]\n",
      " [  8 -10   9  10  11]]\n"
     ]
    }
   ],
   "source": [
    "print(\"Input_array:\\n\", input_arr)\n",
    "a = np.insert(input_arr, [1], [[6], [9], [-10]], axis=1)\n",
    "# insert [[6], [9], [-10]] before index '1' along axis=1\n",
    "print(\"After Inserting an value along axis=1:\\n\", a)"
   ]
  },
  {
   "cell_type": "code",
   "execution_count": 49,
   "metadata": {},
   "outputs": [
    {
     "name": "stdout",
     "output_type": "stream",
     "text": [
      "The input_array:\n",
      " [[ 0  1  2  3]\n",
      " [ 4  5  6  7]\n",
      " [ 8  9 10 11]]\n",
      "The input_array inserted at axis=0:\n",
      " [[ 0  1  2  3]\n",
      " [ 9  9  9  9]\n",
      " [ 4  5  6  7]\n",
      " [ 9  9  9  9]\n",
      " [ 8  9 10 11]]\n",
      "The input_array inserted at axis=1:\n",
      " [[ 0  9  1  9  2  3]\n",
      " [ 4  9  5  9  6  7]\n",
      " [ 8  9  9  9 10 11]]\n"
     ]
    }
   ],
   "source": [
    "print(\"The input_array:\\n\", input_arr)\n",
    "print(\"The input_array inserted at axis=0:\\n\", np.insert(input_arr, (1, 2), 9, axis=0))\n",
    "print(\"The input_array inserted at axis=1:\\n\", np.insert(input_arr, (1, 2), 9, axis=1))"
   ]
  },
  {
   "cell_type": "code",
   "execution_count": 50,
   "metadata": {},
   "outputs": [
    {
     "name": "stdout",
     "output_type": "stream",
     "text": [
      "The input_array:\n",
      " [[ 0  1  2  3]\n",
      " [ 4  5  6  7]\n",
      " [ 8  9 10 11]]\n",
      "The appended array:\n",
      " [[ 0  1  2  3  0  1  2  3]\n",
      " [ 4  5  6  7  4  5  6  7]\n",
      " [ 8  9 10 11  8  9 10 11]]\n"
     ]
    }
   ],
   "source": [
    "# numpy.append(array, values, axis=None)\n",
    "print(\"The input_array:\\n\", input_arr)\n",
    "print(\"The appended array:\\n\", np.append(input_arr, input_arr, axis=1))"
   ]
  },
  {
   "cell_type": "code",
   "execution_count": 51,
   "metadata": {},
   "outputs": [
    {
     "name": "stdout",
     "output_type": "stream",
     "text": [
      "Checks whether input_arr_1 is less than input_arr_2:\n",
      " [[False False False False False]\n",
      " [False False False False False]]\n",
      "Checks whether input_arr_1 is less and equal than input_arr_2:\n",
      " [[ True  True  True  True  True]\n",
      " [ True  True  True  True  True]]\n",
      "Checks whether input_arr_1 is greater and equal than input_arr_2:\n",
      " [[False False False False False]\n",
      " [False False False False False]]\n",
      "Checks whether input_arr_1 is greater and equal than input_arr_2:\n",
      " [[ True  True  True  True  True]\n",
      " [ True  True  True  True  True]]\n"
     ]
    }
   ],
   "source": [
    "import numpy as np\n",
    "input_arr_1 = np.arange(10).reshape(2, 5)\n",
    "input_arr_2 = np.arange(10).reshape(2, 5)\n",
    "print(\"Checks whether input_arr_1 is less than input_arr_2:\\n\", np.less(input_arr_1, input_arr_2))\n",
    "print(\"Checks whether input_arr_1 is less and equal than input_arr_2:\\n\", np.less_equal(input_arr_1, input_arr_2))\n",
    "print(\"Checks whether input_arr_1 is greater and equal than input_arr_2:\\n\", np.greater(input_arr_1, input_arr_2))\n",
    "print(\"Checks whether input_arr_1 is greater and equal than input_arr_2:\\n\", np.greater_equal(input_arr_1, input_arr_2))"
   ]
  },
  {
   "cell_type": "code",
   "execution_count": 52,
   "metadata": {},
   "outputs": [
    {
     "name": "stdout",
     "output_type": "stream",
     "text": [
      "Input_array:\n",
      " [[0.55733716 0.72686217 0.69334551 0.84587199 0.65550499]\n",
      " [0.58393819 0.30062439 0.19060612 0.09672188 0.6196807 ]]\n",
      "The round function used in numpy:\n",
      " [[1. 1. 1. 1. 1.]\n",
      " [1. 0. 0. 0. 1.]]\n",
      "The isnan function used in numpy:\n",
      " [[False False False False False]\n",
      " [False False False False False]]\n",
      "The numpy.iscomplexobj() in numpy:\n",
      " False\n"
     ]
    }
   ],
   "source": [
    "input_arr = np.random.random(10).reshape(2, 5)\n",
    "# numpy.round()\n",
    "# numpy.isnan()\n",
    "# numpy.iscomplexobj() -checks the each element of array is complex object\n",
    "print(\"Input_array:\\n\", input_arr)\n",
    "print(\"The round function used in numpy:\\n\", np.round(input_arr))\n",
    "print(\"The isnan function used in numpy:\\n\", np.isnan(input_arr))\n",
    "print(\"The numpy.iscomplexobj() in numpy:\\n\", np.iscomplexobj(input_arr))"
   ]
  },
  {
   "cell_type": "code",
   "execution_count": 53,
   "metadata": {},
   "outputs": [
    {
     "name": "stdout",
     "output_type": "stream",
     "text": [
      "The input array:\n",
      " [[0.55733716 0.72686217 0.69334551 0.84587199 0.65550499]\n",
      " [0.58393819 0.30062439 0.19060612 0.09672188 0.6196807 ]]\n",
      "The flipped input_array:\n",
      " [[0.6196807  0.09672188 0.19060612 0.30062439 0.58393819]\n",
      " [0.65550499 0.84587199 0.69334551 0.72686217 0.55733716]]\n",
      "The flipped left-right input_array:\n",
      " [[0.65550499 0.84587199 0.69334551 0.72686217 0.55733716]\n",
      " [0.6196807  0.09672188 0.19060612 0.30062439 0.58393819]]\n",
      "The flipped left-right input_array:\n",
      " [[0.58393819 0.30062439 0.19060612 0.09672188 0.6196807 ]\n",
      " [0.55733716 0.72686217 0.69334551 0.84587199 0.65550499]]\n"
     ]
    }
   ],
   "source": [
    "print(\"The input array:\\n\", input_arr)\n",
    "print(\"The flipped input_array:\\n\", np.flip(input_arr))\n",
    "print(\"The flipped left-right input_array:\\n\", np.fliplr(input_arr))\n",
    "print(\"The flipped left-right input_array:\\n\", np.flipud(input_arr))"
   ]
  },
  {
   "cell_type": "code",
   "execution_count": 54,
   "metadata": {},
   "outputs": [
    {
     "name": "stdout",
     "output_type": "stream",
     "text": [
      "The input_array is:\n",
      " [[0.94090346 0.36687079 0.02921369 0.35380658]\n",
      " [0.08982201 0.3994864  0.57525368 0.61346773]\n",
      " [0.44010736 0.75161089 0.5182795  0.54907063]\n",
      " [0.09605386 0.66671946 0.64275908 0.31369725]]\n",
      "The new array with upper diagonal triangle:\n",
      " [[0.94090346 0.36687079 0.02921369 0.35380658]\n",
      " [0.         0.3994864  0.57525368 0.61346773]\n",
      " [0.         0.         0.5182795  0.54907063]\n",
      " [0.         0.         0.         0.31369725]]\n",
      "The new array with lower diagonal triangle:\n",
      " [[0.94090346 0.         0.         0.        ]\n",
      " [0.08982201 0.3994864  0.         0.        ]\n",
      " [0.44010736 0.75161089 0.5182795  0.        ]\n",
      " [0.09605386 0.66671946 0.64275908 0.31369725]]\n"
     ]
    }
   ],
   "source": [
    "input_arr = np.random.random(16).reshape(4, 4)\n",
    "print(\"The input_array is:\\n\", input_arr)\n",
    "print(\"The new array with upper diagonal triangle:\\n\", np.triu(input_arr))\n",
    "print(\"The new array with lower diagonal triangle:\\n\", np.tril(input_arr))\n"
   ]
  },
  {
   "cell_type": "code",
   "execution_count": 55,
   "metadata": {},
   "outputs": [
    {
     "name": "stdout",
     "output_type": "stream",
     "text": [
      "\n",
      "The diagonal matrix with K=0:\n",
      " [[1. 0. 0. 0.]\n",
      " [1. 1. 0. 0.]\n",
      " [1. 1. 1. 0.]\n",
      " [1. 1. 1. 1.]]\n",
      "\n",
      "The diagonal matrix with K=0:\n",
      " [[1. 1. 0. 0.]\n",
      " [1. 1. 1. 0.]\n",
      " [1. 1. 1. 1.]\n",
      " [1. 1. 1. 1.]]\n",
      "\n",
      "The diagonal matrix with K=0:\n",
      " [[0. 0. 0. 0.]\n",
      " [1. 0. 0. 0.]\n",
      " [1. 1. 0. 0.]\n",
      " [1. 1. 1. 0.]]\n"
     ]
    }
   ],
   "source": [
    "# numpy.tri(no_rows, no_cols, k=0/1/-1)\n",
    "print(\"\\nThe diagonal matrix with K=0:\\n\", np.tri(4, 4, k= 0))\n",
    "print(\"\\nThe diagonal matrix with K=0:\\n\", np.tri(4, 4, k=1))\n",
    "print(\"\\nThe diagonal matrix with K=0:\\n\", np.tri(4, 4, k=-1))"
   ]
  },
  {
   "cell_type": "code",
   "execution_count": 56,
   "metadata": {},
   "outputs": [
    {
     "name": "stdout",
     "output_type": "stream",
     "text": [
      "The input_array is:\n",
      " [[0.94090346 0.36687079 0.02921369 0.35380658]\n",
      " [0.08982201 0.3994864  0.57525368 0.61346773]\n",
      " [0.44010736 0.75161089 0.5182795  0.54907063]\n",
      " [0.09605386 0.66671946 0.64275908 0.31369725]]\n",
      "The numpy.prod() is: [0.00357274 0.07344315 0.00559832 0.03738493]\n",
      "The numpy.prod() is: [0.00356788 0.01266298 0.09413344 0.01291269]\n"
     ]
    }
   ],
   "source": [
    "# numpy.prod(input_arr)-calculates the product of each element in an array along the axes\n",
    "print(\"The input_array is:\\n\", input_arr)\n",
    "print(\"The numpy.prod() is:\", np.prod(input_arr, axis=0))\n",
    "print(\"The numpy.prod() is:\", np.prod(input_arr, axis=1))"
   ]
  },
  {
   "cell_type": "code",
   "execution_count": 57,
   "metadata": {},
   "outputs": [
    {
     "name": "stdout",
     "output_type": "stream",
     "text": [
      "The input array is:\n",
      " [[0 1 2 3 4]\n",
      " [5 6 7 8 9]]\n",
      "The square of each element in an array:\n",
      " [[ 0  1  4  9 16]\n",
      " [25 36 49 64 81]]\n",
      "The exponential of each element in an array:\n",
      " [[1.00000000e+00 2.71828183e+00 7.38905610e+00 2.00855369e+01\n",
      "  5.45981500e+01]\n",
      " [1.48413159e+02 4.03428793e+02 1.09663316e+03 2.98095799e+03\n",
      "  8.10308393e+03]]\n",
      "The 2**x of each element in an array:\n",
      " [[  1.   2.   4.   8.  16.]\n",
      " [ 32.  64. 128. 256. 512.]]\n"
     ]
    }
   ],
   "source": [
    "input_arr = np.arange(10).reshape(2, 5)\n",
    "print(\"The input array is:\\n\", input_arr)\n",
    "\n",
    "print(\"The square of each element in an array:\\n\", np.square(input_arr))\n",
    "print(\"The exponential of each element in an array:\\n\", np.exp(input_arr))\n",
    "print(\"The 2**x of each element in an array:\\n\", np.exp2(input_arr))"
   ]
  },
  {
   "cell_type": "code",
   "execution_count": 58,
   "metadata": {},
   "outputs": [
    {
     "name": "stdout",
     "output_type": "stream",
     "text": [
      "The cube root of each element in an array:\n",
      " [[0.         1.         1.25992105 1.44224957 1.58740105]\n",
      " [1.70997595 1.81712059 1.91293118 2.         2.08008382]]\n",
      "The cube root of each element in an array:\n",
      " [[0. 1. 2. 3. 4.]\n",
      " [5. 6. 7. 8. 9.]]\n"
     ]
    }
   ],
   "source": [
    "# numpy.cbrt(arr)\n",
    "print(\"The cube root of each element in an array:\\n\", np.cbrt(input_arr))\n",
    "# numpy.fix(arr) - return round of value toward 0\n",
    "print(\"The cube root of each element in an array:\\n\", np.fix(input_arr))"
   ]
  },
  {
   "cell_type": "code",
   "execution_count": 59,
   "metadata": {},
   "outputs": [
    {
     "name": "stdout",
     "output_type": "stream",
     "text": [
      "[[  179617894  1064122980  1369509747  1066004236]\n",
      " [  504023941  1069029665 -2040798100  1066037752]]\n",
      "\n",
      "The previous array is:\n",
      " [[ 0  1  2  3]\n",
      " [ 4  5  6  7]\n",
      " [ 8  9 10 11]]\n",
      "\n",
      "The empty_like() new array is:\n",
      " [[         0 1072693248          0 1072693248]\n",
      " [         0 1072693248          0 1072693248]\n",
      " [         0 1072693248          0 1072693248]]\n",
      "\n",
      "The ones() new array is:\n",
      " [[1. 1. 1.]\n",
      " [1. 1. 1.]]\n",
      "\n",
      "The ones_like() new array is:\n",
      " [[1 1 1 1]\n",
      " [1 1 1 1]\n",
      " [1 1 1 1]]\n",
      "\n",
      "The full_like() new array is:\n",
      " [[-10 -10 -10 -10]\n",
      " [-10 -10 -10 -10]\n",
      " [-10 -10 -10 -10]]\n"
     ]
    }
   ],
   "source": [
    "# numpy.empty() - generates the array of size(2,4) with random numbers\n",
    "print(np.empty([2, 4], dtype=int))\n",
    "\n",
    "prev_arr = np.arange(12).reshape(3, 4)\n",
    "print(\"\\nThe previous array is:\\n\", prev_arr)\n",
    "print(\"\\nThe empty_like() new array is:\\n\", np.empty_like(prev_arr))\n",
    "\n",
    "print(\"\\nThe ones() new array is:\\n\", np.ones((2, 3), dtype=float))\n",
    "print(\"\\nThe ones_like() new array is:\\n\", np.ones_like(prev_arr))\n",
    "\n",
    "print(\"\\nThe full_like() new array is:\\n\", np.full_like(prev_arr, -10.0))"
   ]
  },
  {
   "cell_type": "code",
   "execution_count": 60,
   "metadata": {},
   "outputs": [
    {
     "name": "stdout",
     "output_type": "stream",
     "text": [
      "The absolute value from array:\n",
      " [[ 0  1  2  3]\n",
      " [ 4  5  6  7]\n",
      " [ 8  9 10 11]]\n"
     ]
    }
   ],
   "source": [
    "# numpy.absolute(arr)\n",
    "print(\"The absolute value from array:\\n\", np.absolute(prev_arr))"
   ]
  },
  {
   "cell_type": "code",
   "execution_count": 61,
   "metadata": {},
   "outputs": [
    {
     "name": "stdout",
     "output_type": "stream",
     "text": [
      "\n",
      "The array_1 is:\n",
      " [0. 1. 2. 3.]\n",
      "\n",
      "The array_2 is:\n",
      " [12. 13. 14. 15.]\n",
      "The hypotenuse of of any arr1(length) and arr2(perpendiculat):\n",
      " [12.         13.03840481 14.14213562 15.29705854]\n"
     ]
    }
   ],
   "source": [
    "arr1 = np.arange(4, dtype=float)\n",
    "arr2 = np.arange(4, dtype=float) + 12\n",
    "\n",
    "print(\"\\nThe array_1 is:\\n\", arr1)\n",
    "print(\"\\nThe array_2 is:\\n\", arr2)\n",
    "\n",
    "print(\"The hypotenuse of of any arr1(length) and arr2(perpendiculat):\\n\", np.hypot(arr1, arr2))"
   ]
  },
  {
   "cell_type": "code",
   "execution_count": 62,
   "metadata": {},
   "outputs": [
    {
     "name": "stdout",
     "output_type": "stream",
     "text": [
      "\n",
      "The arr1:\n",
      " [[0.3821516  0.45401805 0.75065132 0.08258827 0.34411129]\n",
      " [0.34861264 0.21286626 0.67916266 0.38057783 0.3112798 ]]\n",
      "\n",
      "The arr2:\n",
      " [[0.98594378 0.38961469 0.27639465 0.18416763 0.15366904]\n",
      " [0.07566083 0.78595938 0.95922191 0.72220361 0.70423634]]\n",
      "The array_equal(): False\n",
      "The array_equiv(): False\n",
      "The array_equiv(): False\n"
     ]
    }
   ],
   "source": [
    "arr1 = np.random.rand(10).reshape(2, 5)\n",
    "arr2 = np.random.random(10).reshape(2, 5)\n",
    "print(\"\\nThe arr1:\\n\", arr1)\n",
    "print(\"\\nThe arr2:\\n\", arr2)\n",
    "print(\"The array_equal():\", np.array_equal(arr1, arr2))\n",
    "print(\"The array_equiv():\", np.array_equiv(arr1, arr2))\n",
    "\n",
    "print(\"The array_equiv():\", np.array_equiv(arr1, arr2))"
   ]
  },
  {
   "cell_type": "code",
   "execution_count": 63,
   "metadata": {},
   "outputs": [
    {
     "name": "stdout",
     "output_type": "stream",
     "text": [
      "\n",
      "The logical_and:\n",
      " [[ True  True  True  True  True]\n",
      " [ True  True  True  True  True]]\n",
      "\n",
      "The logical_or:\n",
      " [[ True  True  True  True  True]\n",
      " [ True  True  True  True  True]]\n",
      "\n",
      "The logical_xor:\n",
      " [[False False False False False]\n",
      " [False False False False False]]\n",
      "\n",
      "The logical_not:\n",
      " [[False False False False False]\n",
      " [False False False False False]]\n"
     ]
    }
   ],
   "source": [
    "print(\"\\nThe logical_and:\\n\", np.logical_and(arr1, arr2))\n",
    "print(\"\\nThe logical_or:\\n\", np.logical_or(arr1, arr2))\n",
    "print(\"\\nThe logical_xor:\\n\", np.logical_xor(arr1, arr2))\n",
    "print(\"\\nThe logical_not:\\n\", np.logical_xor(arr1, arr2))"
   ]
  },
  {
   "cell_type": "code",
   "execution_count": 64,
   "metadata": {},
   "outputs": [
    {
     "name": "stdout",
     "output_type": "stream",
     "text": [
      "\n",
      "The numpy.degree(): [[21.89567388 26.01331827 43.00915259  4.73195921 19.71612456]\n",
      " [19.97403283 12.19633808 38.91315392 21.80550348 17.83501859]]\n",
      "\n",
      "The numpy.radians(): [[0.0066698  0.00792411 0.01310134 0.00144144 0.00600587]\n",
      " [0.00608444 0.00371522 0.01185362 0.00664234 0.00543286]]\n",
      "\n",
      "The numpy.sin(): [[0.37291773 0.43858006 0.68211518 0.08249441 0.3373602 ]\n",
      " [0.34159423 0.21126233 0.62814171 0.37145702 0.30627718]]\n",
      "\n",
      "The numpy.cos(): [[0.92786441 0.89869212 0.73124475 0.99659153 0.94137564]\n",
      " [0.93984753 0.9774294  0.77809896 0.92845015 0.95194238]]\n",
      "\n",
      "The numpy.arcsin(): [[0.3921235  0.47126982 0.84904733 0.08268244 0.35129211]\n",
      " [0.35609047 0.21450751 0.74662122 0.39042107 0.31653944]]\n",
      "\n",
      "The numpy.arccos(): [[1.17867283 1.0995265  0.72174899 1.48811388 1.21950422]\n",
      " [1.21470585 1.35628881 0.82417511 1.18037526 1.25425689]]\n"
     ]
    }
   ],
   "source": [
    "# numpy.degree()\n",
    "print(\"\\nThe numpy.degree():\", np.degrees(arr1))\n",
    "# numpy.radian()\n",
    "print(\"\\nThe numpy.radians():\", np.radians(arr1))\n",
    "\n",
    "# numpy.arcsin() - calculates the inverse of sin()\n",
    "print(\"\\nThe numpy.sin():\", np.sin(arr1))\n",
    "print(\"\\nThe numpy.cos():\", np.cos(arr1))\n",
    "print(\"\\nThe numpy.arcsin():\", np.arcsin(arr1))\n",
    "print(\"\\nThe numpy.arccos():\", np.arccos(arr1))"
   ]
  },
  {
   "cell_type": "code",
   "execution_count": 65,
   "metadata": {},
   "outputs": [
    {
     "name": "stdout",
     "output_type": "stream",
     "text": [
      "\n",
      "The numpy.diag():\n",
      " [0.3821516  0.21286626]\n"
     ]
    }
   ],
   "source": [
    "# numpy.diag()\n",
    "\n",
    "print(\"\\nThe numpy.diag():\\n\", np.diag(arr1))"
   ]
  },
  {
   "cell_type": "code",
   "execution_count": 66,
   "metadata": {},
   "outputs": [
    {
     "name": "stdout",
     "output_type": "stream",
     "text": [
      "The numpy.diagflat():\n",
      " [[1 0 0 0]\n",
      " [0 2 0 0]\n",
      " [0 0 3 0]\n",
      " [0 0 0 4]]\n",
      "The numpy.diagflat():\n",
      " (array([0, 1, 2, 3, 4]), array([0, 1, 2, 3, 4]))\n",
      "The numpy.diagflat():\n",
      " [[ 0  1  2  3]\n",
      " [ 4  5  6  7]\n",
      " [ 8  9 10 11]\n",
      " [12 13 14 15]]\n"
     ]
    }
   ],
   "source": [
    "# numpy.diagflat(a, k=0)\n",
    "print(\"The numpy.diagflat():\\n\", np.diagflat([1, 2, 3, 4]))\n",
    "\n",
    "# numpy.diag_indices(num)\n",
    "print(\"The numpy.diagflat():\\n\", np.diag_indices(5))\n",
    "\n",
    "print(\"The numpy.diagflat():\\n\", np.arange(16).reshape(4,4))"
   ]
  },
  {
   "cell_type": "code",
   "execution_count": 67,
   "metadata": {},
   "outputs": [
    {
     "name": "stdout",
     "output_type": "stream",
     "text": [
      "The input_arr: [[list([2, 3, 4]) list([5, 6])]]\n",
      "The asmatrix input_arr:\n",
      " [[list([2, 3, 4]) list([5, 6])]]\n"
     ]
    }
   ],
   "source": [
    "# np.asmatrix()\n",
    "\n",
    "input_arr = np.matrix([[2, 3, 4], [5, 6]])\n",
    "print(\"The input_arr:\", input_arr)\n",
    "c = np.asmatrix(input_arr)\n",
    "print(\"The asmatrix input_arr:\\n\", c)"
   ]
  },
  {
   "cell_type": "code",
   "execution_count": 68,
   "metadata": {},
   "outputs": [
    {
     "name": "stdout",
     "output_type": "stream",
     "text": [
      "\n",
      "The array-1 is:\n",
      " [0 1 2]\n",
      "\n",
      "The array-2 is:\n",
      " [4 5 6]\n",
      "\n",
      "The numpy.power():\n",
      " [ 0  1 64]\n",
      "\n",
      "The numpy.power():\n",
      " [ 0.  1. 64.]\n"
     ]
    }
   ],
   "source": [
    "# numpy.power(arr1, arr2)-return the power(arr1, arr2) in int form\n",
    "# numpy.float_power(arr1, arr2) - return the power(arr1, arr2) in float form\n",
    "arr1 = np.arange(3)\n",
    "arr2 = np.arange(3) + 4\n",
    "print(\"\\nThe array-1 is:\\n\", arr1)\n",
    "print(\"\\nThe array-2 is:\\n\", arr2)\n",
    "print(\"\\nThe numpy.power():\\n\", np.power(arr1, arr2))\n",
    "print(\"\\nThe numpy.power():\\n\", np.float_power(arr1, arr2))"
   ]
  },
  {
   "cell_type": "code",
   "execution_count": 69,
   "metadata": {},
   "outputs": [
    {
     "name": "stdout",
     "output_type": "stream",
     "text": [
      "The input_arr is:\n",
      " [0 1 2]\n",
      "numpy.log():\n",
      " [2.30258509 2.39789527 2.48490665]\n",
      "numpy.log1():\n",
      " [2.39789527 2.48490665 2.56494936]\n",
      "numpy.log2():\n",
      " [3.32192809 3.45943162 3.5849625 ]\n",
      "numpy.log10():\n",
      " [1.         1.04139269 1.07918125]\n"
     ]
    }
   ],
   "source": [
    "print(\"The input_arr is:\\n\", arr1 )\n",
    "print(\"numpy.log():\\n\", np.log(arr1 + 10))\n",
    "# numpy.log1p calculates the natural logaarithm value of x+1 where x belongs to all the input array elements\n",
    "print(\"numpy.log1():\\n\", np.log1p(arr1 + 10))\n",
    "print(\"numpy.log2():\\n\", np.log2(arr1 + 10))\n",
    "print(\"numpy.log10():\\n\", np.log10(arr1 + 10))"
   ]
  },
  {
   "cell_type": "code",
   "execution_count": 70,
   "metadata": {},
   "outputs": [
    {
     "name": "stdout",
     "output_type": "stream",
     "text": [
      "[[1. 0. 0. 0.]\n",
      " [0. 1. 0. 0.]]\n"
     ]
    }
   ],
   "source": [
    "# numpy.eye(shape) - used to create an new array with 1 in diagonal element\n",
    "# 1's in diagonal element and 0's elsewhere\n",
    "# np.eye(no_of_rows, no_of_cols,k=0/1/-1 (for main diagonal, above the diagonal, and below the diagonal))\n",
    "print(np.eye(2, 4))"
   ]
  },
  {
   "cell_type": "code",
   "execution_count": 71,
   "metadata": {},
   "outputs": [
    {
     "name": "stdout",
     "output_type": "stream",
     "text": [
      "[[1. 0. 0. 0.]\n",
      " [0. 1. 0. 0.]\n",
      " [0. 0. 1. 0.]\n",
      " [0. 0. 0. 1.]]\n"
     ]
    }
   ],
   "source": [
    "# numpy.identity(n) -returns the identity matrix of nXn size\n",
    "print(np.identity(4, dtype=float))"
   ]
  },
  {
   "cell_type": "code",
   "execution_count": 77,
   "metadata": {},
   "outputs": [
    {
     "name": "stdout",
     "output_type": "stream",
     "text": [
      "The input_arr:\n",
      " [[0.68125007 0.5767297  0.78235312 0.66760805]\n",
      " [0.05233962 0.79956121 0.96149364 0.73020719]\n",
      " [0.72288276 0.69325404 0.70155875 0.81515134]]\n",
      "\n",
      "The numpy.roll(1 times):\n",
      " [[0.81515134 0.68125007 0.5767297  0.78235312]\n",
      " [0.66760805 0.05233962 0.79956121 0.96149364]\n",
      " [0.73020719 0.72288276 0.69325404 0.70155875]]\n",
      "\n",
      "The numpy.roll(2 times):\n",
      " [[0.70155875 0.81515134 0.68125007 0.5767297 ]\n",
      " [0.78235312 0.66760805 0.05233962 0.79956121]\n",
      " [0.96149364 0.73020719 0.72288276 0.69325404]]\n",
      "\n",
      "The numpy.roll(3 times):\n",
      " [[0.69325404 0.70155875 0.81515134 0.68125007]\n",
      " [0.5767297  0.78235312 0.66760805 0.05233962]\n",
      " [0.79956121 0.96149364 0.73020719 0.72288276]]\n"
     ]
    }
   ],
   "source": [
    "# numpy.roll(array, shift-no of times to roll, axis=None)\n",
    "input_arr = np.random.random(12).reshape(3, 4)\n",
    "print(\"The input_arr:\\n\", input_arr)\n",
    "print(\"\\nThe numpy.roll(1 times):\\n\", np.roll(input_arr, 1))\n",
    "print(\"\\nThe numpy.roll(2 times):\\n\", np.roll(input_arr, 2))\n",
    "print(\"\\nThe numpy.roll(3 times):\\n\", np.roll(input_arr, 3))"
   ]
  },
  {
   "cell_type": "code",
   "execution_count": 84,
   "metadata": {},
   "outputs": [
    {
     "name": "stdout",
     "output_type": "stream",
     "text": [
      "The matrix A is in mat datatype:\n",
      " [[ 4  1]\n",
      " [22  1]]\n",
      "The matrix A is in mat datatype:\n",
      " [[5 2]\n",
      " [5 2]]\n",
      "The matrix A is in mat datatype:\n",
      " [[8 4]\n",
      " [6 6]]\n",
      "Via bmat array like input:\n",
      " [[ 4  1  5  2]\n",
      " [22  1  5  2]\n",
      " [ 8  4  4  1]\n",
      " [ 6  6 22  1]]\n",
      "Via bmat array like input:\n",
      " [[ 4  1  5  2]\n",
      " [22  1  5  2]\n",
      " [ 4  1  4  1]\n",
      " [22  1 22  1]]\n"
     ]
    }
   ],
   "source": [
    "# np.mat() - data as inteterpreed matrix\n",
    "import numpy as np\n",
    "A = np.mat('4, 1; 22, 1')\n",
    "print(\"The matrix A is in mat datatype:\\n\", A)\n",
    "\n",
    "B = np.mat('5, 2; 5, 2')\n",
    "print(\"The matrix A is in mat datatype:\\n\", B)\n",
    "\n",
    "C = np.mat('8, 4; 6, 6')\n",
    "print(\"The matrix A is in mat datatype:\\n\", C)\n",
    "\n",
    "a = np.bmat([[A, B], [C, A]])\n",
    "print(\"Via bmat array like input:\\n\", a)\n",
    "\n",
    "b = np.bmat('A, B; A, A')\n",
    "print(\"Via bmat array like input:\\n\", b)"
   ]
  },
  {
   "cell_type": "code",
   "execution_count": null,
   "metadata": {},
   "outputs": [],
   "source": []
  }
 ],
 "metadata": {
  "kernelspec": {
   "display_name": "Python 3",
   "language": "python",
   "name": "python3"
  },
  "language_info": {
   "codemirror_mode": {
    "name": "ipython",
    "version": 3
   },
   "file_extension": ".py",
   "mimetype": "text/x-python",
   "name": "python",
   "nbconvert_exporter": "python",
   "pygments_lexer": "ipython3",
   "version": "3.6.10"
  }
 },
 "nbformat": 4,
 "nbformat_minor": 4
}
