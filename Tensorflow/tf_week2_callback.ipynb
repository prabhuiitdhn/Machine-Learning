{
 "cells": [
  {
   "cell_type": "markdown",
   "metadata": {},
   "source": [
    " tensorflow callback:\n",
    " A callback is an object that can perform actions at various stages of training (e.g. at the start or end of an epoch, before or after a single batch, etc).\n",
    " \n",
    " It is when you want to control the traninging the like when to stop the trainging after a certain time of losses and all."
   ]
  },
  {
   "cell_type": "code",
   "execution_count": 24,
   "metadata": {},
   "outputs": [],
   "source": [
    "import tensorflow as tf"
   ]
  },
  {
   "cell_type": "markdown",
   "metadata": {},
   "source": [
    "Steps to training with callbacks:\n",
    "    1. Define the callback (on_epoch_end, on_epoch_start, on_tarining_batch_start, on_training_batch_end)\n",
    "    2. Get the dataset\n",
    "    3. Define the architecture \n",
    "    4. Configure the training using model.compile\n",
    "    5. start training using model.fit()"
   ]
  },
  {
   "cell_type": "code",
   "execution_count": 25,
   "metadata": {},
   "outputs": [],
   "source": [
    "class myCallback(tf.keras.callbacks.Callback):\n",
    "    #define the call back and write the definition inside the call(which says the reprsentation of callback actin at various stages)\n",
    "    def on_epoch_end(self, epoch, logs={}):\n",
    "        #here at the time of epoch_end, we take the epoch information and logs of model which keeps lots of information of current status of training (loss and other statistics measurement)\n",
    "        if(logs.get('loss')< 0.4):\n",
    "            print(\"\\n loss is low so cancelling training\")\n",
    "            self.model.stop_training = True\n",
    "            "
   ]
  },
  {
   "cell_type": "code",
   "execution_count": 26,
   "metadata": {},
   "outputs": [],
   "source": [
    "#get the dataset\n",
    "\n",
    "fashion_mnist = tf.keras.datasets.fashion_mnist\n",
    "\n",
    "# Partition the fashion_mnist image as training and testing\n",
    "\n",
    "(train_image, train_label), (test_image, test_label) = fashion_mnist.load_data()"
   ]
  },
  {
   "cell_type": "code",
   "execution_count": 27,
   "metadata": {},
   "outputs": [
    {
     "name": "stdout",
     "output_type": "stream",
     "text": [
      "Training size of fashion_mnist: 60000\n",
      "Testing size of fashion_mnist: 10000\n"
     ]
    }
   ],
   "source": [
    "print(\"Training size of fashion_mnist:\", len(train_image))\n",
    "print(\"Testing size of fashion_mnist:\", len(test_image))"
   ]
  },
  {
   "cell_type": "code",
   "execution_count": 28,
   "metadata": {},
   "outputs": [],
   "source": [
    "#to pass the data into the training into the model need to normalise the data so that model can learn much more faster\n",
    "train_image = train_image/255.0\n",
    "test_image = test_image/255.0"
   ]
  },
  {
   "cell_type": "code",
   "execution_count": 29,
   "metadata": {},
   "outputs": [],
   "source": [
    "#define the architecture\n",
    "\n",
    "model = tf.keras.models.Sequential([\n",
    "    tf.keras.layers.Flatten(),\n",
    "    tf.keras.layers.Dense(512, activation= tf.nn.relu),\n",
    "    tf.keras.layers.Dense(10, activation= tf.nn.softmax)\n",
    "])\n"
   ]
  },
  {
   "cell_type": "code",
   "execution_count": 30,
   "metadata": {},
   "outputs": [],
   "source": [
    "#model configuration\n",
    "\n",
    "model.compile(\n",
    "    optimizer ='adam',\n",
    "    loss = 'sparse_categorical_crossentropy'\n",
    ")"
   ]
  },
  {
   "cell_type": "code",
   "execution_count": 31,
   "metadata": {},
   "outputs": [
    {
     "name": "stdout",
     "output_type": "stream",
     "text": [
      "Epoch 1/5\n",
      "60000/60000 [==============================] - 16s 265us/step - loss: 0.4747\n",
      "Epoch 2/5\n",
      "59872/60000 [============================>.] - ETA: 0s - loss: 0.3598\n",
      " loss is low so cancelling training\n",
      "60000/60000 [==============================] - 16s 274us/step - loss: 0.3598\n"
     ]
    },
    {
     "data": {
      "text/plain": [
       "<tensorflow.python.keras.callbacks.History at 0x1b0c60273c8>"
      ]
     },
     "execution_count": 31,
     "metadata": {},
     "output_type": "execute_result"
    }
   ],
   "source": [
    "#start the training the model\n",
    "callback= myCallback()\n",
    "model.fit(\n",
    "    train_image, train_label, epochs=5, callbacks= [callback]\n",
    ")"
   ]
  },
  {
   "cell_type": "code",
   "execution_count": null,
   "metadata": {},
   "outputs": [],
   "source": []
  }
 ],
 "metadata": {
  "kernelspec": {
   "display_name": "Python 3",
   "language": "python",
   "name": "python3"
  },
  "language_info": {
   "codemirror_mode": {
    "name": "ipython",
    "version": 3
   },
   "file_extension": ".py",
   "mimetype": "text/x-python",
   "name": "python",
   "nbconvert_exporter": "python",
   "pygments_lexer": "ipython3",
   "version": "3.6.10"
  }
 },
 "nbformat": 4,
 "nbformat_minor": 4
}
