{
 "cells": [
  {
   "cell_type": "code",
   "execution_count": 101,
   "metadata": {},
   "outputs": [],
   "source": [
    "import sklearn\n",
    "from sklearn import datasets"
   ]
  },
  {
   "cell_type": "code",
   "execution_count": 102,
   "metadata": {},
   "outputs": [],
   "source": [
    "iris = datasets.load_iris() #iris dataset\n",
    "digits = datasets.load_digits() #digits dataset"
   ]
  },
  {
   "cell_type": "code",
   "execution_count": 103,
   "metadata": {},
   "outputs": [
    {
     "name": "stdout",
     "output_type": "stream",
     "text": [
      "[[ 0.  0.  5. ...  0.  0.  0.]\n",
      " [ 0.  0.  0. ... 10.  0.  0.]\n",
      " [ 0.  0.  0. ... 16.  9.  0.]\n",
      " ...\n",
      " [ 0.  0.  1. ...  6.  0.  0.]\n",
      " [ 0.  0.  2. ... 12.  0.  0.]\n",
      " [ 0.  0. 10. ... 12.  1.  0.]]\n"
     ]
    }
   ],
   "source": [
    "print(digits.data) #"
   ]
  },
  {
   "cell_type": "code",
   "execution_count": 104,
   "metadata": {},
   "outputs": [
    {
     "data": {
      "text/plain": [
       "array([0, 1, 2, ..., 8, 9, 8])"
      ]
     },
     "execution_count": 104,
     "metadata": {},
     "output_type": "execute_result"
    }
   ],
   "source": [
    "digits.target"
   ]
  },
  {
   "cell_type": "code",
   "execution_count": 105,
   "metadata": {},
   "outputs": [],
   "source": [
    "#in the case of SVM (Support vector classification)\n",
    "\n",
    "from sklearn import svm\n",
    "clf = svm.SVC(gamma = 0.001, C= 100)"
   ]
  },
  {
   "cell_type": "code",
   "execution_count": 106,
   "metadata": {},
   "outputs": [
    {
     "data": {
      "text/plain": [
       "SVC(C=100, cache_size=200, class_weight=None, coef0=0.0,\n",
       "    decision_function_shape='ovr', degree=3, gamma=0.001, kernel='rbf',\n",
       "    max_iter=-1, probability=False, random_state=None, shrinking=True,\n",
       "    tol=0.001, verbose=False)"
      ]
     },
     "execution_count": 106,
     "metadata": {},
     "output_type": "execute_result"
    }
   ],
   "source": [
    "clf.fit(digits.data[:-1], digits.target[:-1])  # fit(X, y) is the estimator for any model that tries to learn the training data\n"
   ]
  },
  {
   "cell_type": "code",
   "execution_count": 107,
   "metadata": {},
   "outputs": [
    {
     "data": {
      "text/plain": [
       "array([8])"
      ]
     },
     "execution_count": 107,
     "metadata": {},
     "output_type": "execute_result"
    }
   ],
   "source": [
    "clf.predict(digits.data[-1:])"
   ]
  },
  {
   "cell_type": "code",
   "execution_count": 108,
   "metadata": {},
   "outputs": [
    {
     "name": "stdout",
     "output_type": "stream",
     "text": [
      "{'DESCR': '.. _iris_dataset:\\n\\nIris plants dataset\\n--------------------\\n\\n**Data Set Characteristics:**\\n\\n    :Number of Instances: 150 (50 in each of three classes)\\n    :Number of Attributes: 4 numeric, predictive attributes and the class\\n    :Attribute Information:\\n        - sepal length in cm\\n        - sepal width in cm\\n        - petal length in cm\\n        - petal width in cm\\n        - class:\\n                - Iris-Setosa\\n                - Iris-Versicolour\\n                - Iris-Virginica\\n                \\n    :Summary Statistics:\\n\\n    ============== ==== ==== ======= ===== ====================\\n                    Min  Max   Mean    SD   Class Correlation\\n    ============== ==== ==== ======= ===== ====================\\n    sepal length:   4.3  7.9   5.84   0.83    0.7826\\n    sepal width:    2.0  4.4   3.05   0.43   -0.4194\\n    petal length:   1.0  6.9   3.76   1.76    0.9490  (high!)\\n    petal width:    0.1  2.5   1.20   0.76    0.9565  (high!)\\n    ============== ==== ==== ======= ===== ====================\\n\\n    :Missing Attribute Values: None\\n    :Class Distribution: 33.3% for each of 3 classes.\\n    :Creator: R.A. Fisher\\n    :Donor: Michael Marshall (MARSHALL%PLU@io.arc.nasa.gov)\\n    :Date: July, 1988\\n\\nThe famous Iris database, first used by Sir R.A. Fisher. The dataset is taken\\nfrom Fisher\\'s paper. Note that it\\'s the same as in R, but not as in the UCI\\nMachine Learning Repository, which has two wrong data points.\\n\\nThis is perhaps the best known database to be found in the\\npattern recognition literature.  Fisher\\'s paper is a classic in the field and\\nis referenced frequently to this day.  (See Duda & Hart, for example.)  The\\ndata set contains 3 classes of 50 instances each, where each class refers to a\\ntype of iris plant.  One class is linearly separable from the other 2; the\\nlatter are NOT linearly separable from each other.\\n\\n.. topic:: References\\n\\n   - Fisher, R.A. \"The use of multiple measurements in taxonomic problems\"\\n     Annual Eugenics, 7, Part II, 179-188 (1936); also in \"Contributions to\\n     Mathematical Statistics\" (John Wiley, NY, 1950).\\n   - Duda, R.O., & Hart, P.E. (1973) Pattern Classification and Scene Analysis.\\n     (Q327.D83) John Wiley & Sons.  ISBN 0-471-22361-1.  See page 218.\\n   - Dasarathy, B.V. (1980) \"Nosing Around the Neighborhood: A New System\\n     Structure and Classification Rule for Recognition in Partially Exposed\\n     Environments\".  IEEE Transactions on Pattern Analysis and Machine\\n     Intelligence, Vol. PAMI-2, No. 1, 67-71.\\n   - Gates, G.W. (1972) \"The Reduced Nearest Neighbor Rule\".  IEEE Transactions\\n     on Information Theory, May 1972, 431-433.\\n   - See also: 1988 MLC Proceedings, 54-64.  Cheeseman et al\"s AUTOCLASS II\\n     conceptual clustering system finds 3 classes in the data.\\n   - Many, many more ...', 'data': array([[5.1, 3.5, 1.4, 0.2],\n",
      "       [4.9, 3. , 1.4, 0.2],\n",
      "       [4.7, 3.2, 1.3, 0.2],\n",
      "       [4.6, 3.1, 1.5, 0.2],\n",
      "       [5. , 3.6, 1.4, 0.2],\n",
      "       [5.4, 3.9, 1.7, 0.4],\n",
      "       [4.6, 3.4, 1.4, 0.3],\n",
      "       [5. , 3.4, 1.5, 0.2],\n",
      "       [4.4, 2.9, 1.4, 0.2],\n",
      "       [4.9, 3.1, 1.5, 0.1],\n",
      "       [5.4, 3.7, 1.5, 0.2],\n",
      "       [4.8, 3.4, 1.6, 0.2],\n",
      "       [4.8, 3. , 1.4, 0.1],\n",
      "       [4.3, 3. , 1.1, 0.1],\n",
      "       [5.8, 4. , 1.2, 0.2],\n",
      "       [5.7, 4.4, 1.5, 0.4],\n",
      "       [5.4, 3.9, 1.3, 0.4],\n",
      "       [5.1, 3.5, 1.4, 0.3],\n",
      "       [5.7, 3.8, 1.7, 0.3],\n",
      "       [5.1, 3.8, 1.5, 0.3],\n",
      "       [5.4, 3.4, 1.7, 0.2],\n",
      "       [5.1, 3.7, 1.5, 0.4],\n",
      "       [4.6, 3.6, 1. , 0.2],\n",
      "       [5.1, 3.3, 1.7, 0.5],\n",
      "       [4.8, 3.4, 1.9, 0.2],\n",
      "       [5. , 3. , 1.6, 0.2],\n",
      "       [5. , 3.4, 1.6, 0.4],\n",
      "       [5.2, 3.5, 1.5, 0.2],\n",
      "       [5.2, 3.4, 1.4, 0.2],\n",
      "       [4.7, 3.2, 1.6, 0.2],\n",
      "       [4.8, 3.1, 1.6, 0.2],\n",
      "       [5.4, 3.4, 1.5, 0.4],\n",
      "       [5.2, 4.1, 1.5, 0.1],\n",
      "       [5.5, 4.2, 1.4, 0.2],\n",
      "       [4.9, 3.1, 1.5, 0.2],\n",
      "       [5. , 3.2, 1.2, 0.2],\n",
      "       [5.5, 3.5, 1.3, 0.2],\n",
      "       [4.9, 3.6, 1.4, 0.1],\n",
      "       [4.4, 3. , 1.3, 0.2],\n",
      "       [5.1, 3.4, 1.5, 0.2],\n",
      "       [5. , 3.5, 1.3, 0.3],\n",
      "       [4.5, 2.3, 1.3, 0.3],\n",
      "       [4.4, 3.2, 1.3, 0.2],\n",
      "       [5. , 3.5, 1.6, 0.6],\n",
      "       [5.1, 3.8, 1.9, 0.4],\n",
      "       [4.8, 3. , 1.4, 0.3],\n",
      "       [5.1, 3.8, 1.6, 0.2],\n",
      "       [4.6, 3.2, 1.4, 0.2],\n",
      "       [5.3, 3.7, 1.5, 0.2],\n",
      "       [5. , 3.3, 1.4, 0.2],\n",
      "       [7. , 3.2, 4.7, 1.4],\n",
      "       [6.4, 3.2, 4.5, 1.5],\n",
      "       [6.9, 3.1, 4.9, 1.5],\n",
      "       [5.5, 2.3, 4. , 1.3],\n",
      "       [6.5, 2.8, 4.6, 1.5],\n",
      "       [5.7, 2.8, 4.5, 1.3],\n",
      "       [6.3, 3.3, 4.7, 1.6],\n",
      "       [4.9, 2.4, 3.3, 1. ],\n",
      "       [6.6, 2.9, 4.6, 1.3],\n",
      "       [5.2, 2.7, 3.9, 1.4],\n",
      "       [5. , 2. , 3.5, 1. ],\n",
      "       [5.9, 3. , 4.2, 1.5],\n",
      "       [6. , 2.2, 4. , 1. ],\n",
      "       [6.1, 2.9, 4.7, 1.4],\n",
      "       [5.6, 2.9, 3.6, 1.3],\n",
      "       [6.7, 3.1, 4.4, 1.4],\n",
      "       [5.6, 3. , 4.5, 1.5],\n",
      "       [5.8, 2.7, 4.1, 1. ],\n",
      "       [6.2, 2.2, 4.5, 1.5],\n",
      "       [5.6, 2.5, 3.9, 1.1],\n",
      "       [5.9, 3.2, 4.8, 1.8],\n",
      "       [6.1, 2.8, 4. , 1.3],\n",
      "       [6.3, 2.5, 4.9, 1.5],\n",
      "       [6.1, 2.8, 4.7, 1.2],\n",
      "       [6.4, 2.9, 4.3, 1.3],\n",
      "       [6.6, 3. , 4.4, 1.4],\n",
      "       [6.8, 2.8, 4.8, 1.4],\n",
      "       [6.7, 3. , 5. , 1.7],\n",
      "       [6. , 2.9, 4.5, 1.5],\n",
      "       [5.7, 2.6, 3.5, 1. ],\n",
      "       [5.5, 2.4, 3.8, 1.1],\n",
      "       [5.5, 2.4, 3.7, 1. ],\n",
      "       [5.8, 2.7, 3.9, 1.2],\n",
      "       [6. , 2.7, 5.1, 1.6],\n",
      "       [5.4, 3. , 4.5, 1.5],\n",
      "       [6. , 3.4, 4.5, 1.6],\n",
      "       [6.7, 3.1, 4.7, 1.5],\n",
      "       [6.3, 2.3, 4.4, 1.3],\n",
      "       [5.6, 3. , 4.1, 1.3],\n",
      "       [5.5, 2.5, 4. , 1.3],\n",
      "       [5.5, 2.6, 4.4, 1.2],\n",
      "       [6.1, 3. , 4.6, 1.4],\n",
      "       [5.8, 2.6, 4. , 1.2],\n",
      "       [5. , 2.3, 3.3, 1. ],\n",
      "       [5.6, 2.7, 4.2, 1.3],\n",
      "       [5.7, 3. , 4.2, 1.2],\n",
      "       [5.7, 2.9, 4.2, 1.3],\n",
      "       [6.2, 2.9, 4.3, 1.3],\n",
      "       [5.1, 2.5, 3. , 1.1],\n",
      "       [5.7, 2.8, 4.1, 1.3],\n",
      "       [6.3, 3.3, 6. , 2.5],\n",
      "       [5.8, 2.7, 5.1, 1.9],\n",
      "       [7.1, 3. , 5.9, 2.1],\n",
      "       [6.3, 2.9, 5.6, 1.8],\n",
      "       [6.5, 3. , 5.8, 2.2],\n",
      "       [7.6, 3. , 6.6, 2.1],\n",
      "       [4.9, 2.5, 4.5, 1.7],\n",
      "       [7.3, 2.9, 6.3, 1.8],\n",
      "       [6.7, 2.5, 5.8, 1.8],\n",
      "       [7.2, 3.6, 6.1, 2.5],\n",
      "       [6.5, 3.2, 5.1, 2. ],\n",
      "       [6.4, 2.7, 5.3, 1.9],\n",
      "       [6.8, 3. , 5.5, 2.1],\n",
      "       [5.7, 2.5, 5. , 2. ],\n",
      "       [5.8, 2.8, 5.1, 2.4],\n",
      "       [6.4, 3.2, 5.3, 2.3],\n",
      "       [6.5, 3. , 5.5, 1.8],\n",
      "       [7.7, 3.8, 6.7, 2.2],\n",
      "       [7.7, 2.6, 6.9, 2.3],\n",
      "       [6. , 2.2, 5. , 1.5],\n",
      "       [6.9, 3.2, 5.7, 2.3],\n",
      "       [5.6, 2.8, 4.9, 2. ],\n",
      "       [7.7, 2.8, 6.7, 2. ],\n",
      "       [6.3, 2.7, 4.9, 1.8],\n",
      "       [6.7, 3.3, 5.7, 2.1],\n",
      "       [7.2, 3.2, 6. , 1.8],\n",
      "       [6.2, 2.8, 4.8, 1.8],\n",
      "       [6.1, 3. , 4.9, 1.8],\n",
      "       [6.4, 2.8, 5.6, 2.1],\n",
      "       [7.2, 3. , 5.8, 1.6],\n",
      "       [7.4, 2.8, 6.1, 1.9],\n",
      "       [7.9, 3.8, 6.4, 2. ],\n",
      "       [6.4, 2.8, 5.6, 2.2],\n",
      "       [6.3, 2.8, 5.1, 1.5],\n",
      "       [6.1, 2.6, 5.6, 1.4],\n",
      "       [7.7, 3. , 6.1, 2.3],\n",
      "       [6.3, 3.4, 5.6, 2.4],\n",
      "       [6.4, 3.1, 5.5, 1.8],\n",
      "       [6. , 3. , 4.8, 1.8],\n",
      "       [6.9, 3.1, 5.4, 2.1],\n",
      "       [6.7, 3.1, 5.6, 2.4],\n",
      "       [6.9, 3.1, 5.1, 2.3],\n",
      "       [5.8, 2.7, 5.1, 1.9],\n",
      "       [6.8, 3.2, 5.9, 2.3],\n",
      "       [6.7, 3.3, 5.7, 2.5],\n",
      "       [6.7, 3. , 5.2, 2.3],\n",
      "       [6.3, 2.5, 5. , 1.9],\n",
      "       [6.5, 3. , 5.2, 2. ],\n",
      "       [6.2, 3.4, 5.4, 2.3],\n",
      "       [5.9, 3. , 5.1, 1.8]]), 'feature_names': ['sepal length (cm)', 'sepal width (cm)', 'petal length (cm)', 'petal width (cm)'], 'target_names': array(['setosa', 'versicolor', 'virginica'], dtype='<U10'), 'target': array([0, 0, 0, 0, 0, 0, 0, 0, 0, 0, 0, 0, 0, 0, 0, 0, 0, 0, 0, 0, 0, 0,\n",
      "       0, 0, 0, 0, 0, 0, 0, 0, 0, 0, 0, 0, 0, 0, 0, 0, 0, 0, 0, 0, 0, 0,\n",
      "       0, 0, 0, 0, 0, 0, 1, 1, 1, 1, 1, 1, 1, 1, 1, 1, 1, 1, 1, 1, 1, 1,\n",
      "       1, 1, 1, 1, 1, 1, 1, 1, 1, 1, 1, 1, 1, 1, 1, 1, 1, 1, 1, 1, 1, 1,\n",
      "       1, 1, 1, 1, 1, 1, 1, 1, 1, 1, 1, 1, 2, 2, 2, 2, 2, 2, 2, 2, 2, 2,\n",
      "       2, 2, 2, 2, 2, 2, 2, 2, 2, 2, 2, 2, 2, 2, 2, 2, 2, 2, 2, 2, 2, 2,\n",
      "       2, 2, 2, 2, 2, 2, 2, 2, 2, 2, 2, 2, 2, 2, 2, 2, 2, 2]), 'filename': 'c:\\\\users\\\\uib43225\\\\pycharmprojects\\\\fusion\\\\racam\\\\lib\\\\site-packages\\\\sklearn\\\\datasets\\\\data\\\\iris.csv'}\n"
     ]
    }
   ],
   "source": [
    "#for iris dataset\n",
    "from sklearn import datasets\n",
    "iris = datasets.load_iris()\n",
    "print(iris)"
   ]
  },
  {
   "cell_type": "code",
   "execution_count": 109,
   "metadata": {},
   "outputs": [
    {
     "name": "stdout",
     "output_type": "stream",
     "text": [
      "[0 0 0 0 0 0 0 0 0 0 0 0 0 0 0 0 0 0 0 0 0 0 0 0 0 0 0 0 0 0 0 0 0 0 0 0 0\n",
      " 0 0 0 0 0 0 0 0 0 0 0 0 0 1 1 1 1 1 1 1 1 1 1 1 1 1 1 1 1 1 1 1 1 1 1 1 1\n",
      " 1 1 1 1 1 1 1 1 1 1 1 1 1 1 1 1 1 1 1 1 1 1 1 1 1 1 2 2 2 2 2 2 2 2 2 2 2\n",
      " 2 2 2 2 2 2 2 2 2 2 2 2 2 2 2 2 2 2 2 2 2 2 2 2 2 2 2 2 2 2 2 2 2 2 2 2 2\n",
      " 2 2]\n"
     ]
    }
   ],
   "source": [
    "X =iris.data\n",
    "y= iris.target\n",
    "\n",
    "print(y)"
   ]
  },
  {
   "cell_type": "code",
   "execution_count": 110,
   "metadata": {},
   "outputs": [
    {
     "data": {
      "text/plain": [
       "SVC(C=100, cache_size=200, class_weight=None, coef0=0.0,\n",
       "    decision_function_shape='ovr', degree=3, gamma=0.001, kernel='rbf',\n",
       "    max_iter=-1, probability=False, random_state=None, shrinking=True,\n",
       "    tol=0.001, verbose=False)"
      ]
     },
     "execution_count": 110,
     "metadata": {},
     "output_type": "execute_result"
    }
   ],
   "source": [
    "clf.fit(X, y) "
   ]
  },
  {
   "cell_type": "code",
   "execution_count": 111,
   "metadata": {},
   "outputs": [],
   "source": [
    "#putting trained model in pickle\n",
    "import pickle"
   ]
  },
  {
   "cell_type": "code",
   "execution_count": 112,
   "metadata": {},
   "outputs": [],
   "source": [
    "s = pickle.dumps(clf) #model saved in pickle format"
   ]
  },
  {
   "cell_type": "code",
   "execution_count": 113,
   "metadata": {},
   "outputs": [
    {
     "name": "stdout",
     "output_type": "stream",
     "text": [
      "b'\\x80\\x03csklearn.svm.classes\\nSVC\\nq\\x00)\\x81q\\x01}q\\x02(X\\x08\\x00\\x00\\x00support_q\\x03cnumpy.core.multiarray\\n_reconstruct\\nq\\x04cnumpy\\nndarray\\nq\\x05K\\x00\\x85q\\x06C\\x01bq\\x07\\x87q\\x08Rq\\t(K\\x01K0\\x85q\\ncnumpy\\ndtype\\nq\\x0bX\\x02\\x00\\x00\\x00i4q\\x0cK\\x00K\\x01\\x87q\\rRq\\x0e(K\\x03X\\x01\\x00\\x00\\x00<q\\x0fNNNJ\\xff\\xff\\xff\\xffJ\\xff\\xff\\xff\\xffK\\x00tq\\x10b\\x89C\\xc0\\x17\\x00\\x00\\x00\\x18\\x00\\x00\\x00)\\x00\\x00\\x00,\\x00\\x00\\x002\\x00\\x00\\x003\\x00\\x00\\x004\\x00\\x00\\x006\\x00\\x00\\x007\\x00\\x00\\x008\\x00\\x00\\x009\\x00\\x00\\x00?\\x00\\x00\\x00B\\x00\\x00\\x00D\\x00\\x00\\x00F\\x00\\x00\\x00H\\x00\\x00\\x00I\\x00\\x00\\x00L\\x00\\x00\\x00M\\x00\\x00\\x00N\\x00\\x00\\x00S\\x00\\x00\\x00T\\x00\\x00\\x00U\\x00\\x00\\x00V\\x00\\x00\\x00W\\x00\\x00\\x00[\\x00\\x00\\x00]\\x00\\x00\\x00b\\x00\\x00\\x00e\\x00\\x00\\x00j\\x00\\x00\\x00n\\x00\\x00\\x00o\\x00\\x00\\x00q\\x00\\x00\\x00w\\x00\\x00\\x00y\\x00\\x00\\x00{\\x00\\x00\\x00~\\x00\\x00\\x00\\x7f\\x00\\x00\\x00\\x81\\x00\\x00\\x00\\x85\\x00\\x00\\x00\\x86\\x00\\x00\\x00\\x89\\x00\\x00\\x00\\x8a\\x00\\x00\\x00\\x8d\\x00\\x00\\x00\\x8e\\x00\\x00\\x00\\x92\\x00\\x00\\x00\\x93\\x00\\x00\\x00\\x95\\x00\\x00\\x00q\\x11tq\\x12bX\\x06\\x00\\x00\\x00probA_q\\x13h\\x04h\\x05K\\x00\\x85q\\x14h\\x07\\x87q\\x15Rq\\x16(K\\x01K\\x00\\x85q\\x17h\\x0bX\\x02\\x00\\x00\\x00f8q\\x18K\\x00K\\x01\\x87q\\x19Rq\\x1a(K\\x03h\\x0fNNNJ\\xff\\xff\\xff\\xffJ\\xff\\xff\\xff\\xffK\\x00tq\\x1bb\\x89C\\x00q\\x1ctq\\x1dbX\\x06\\x00\\x00\\x00degreeq\\x1eK\\x03X\\x07\\x00\\x00\\x00_sparseq\\x1f\\x89X\\x0b\\x00\\x00\\x00_dual_coef_q h\\x04h\\x05K\\x00\\x85q!h\\x07\\x87q\"Rq#(K\\x01K\\x02K0\\x86q$h\\x1a\\x89B\\x00\\x03\\x00\\x00\\x00\\x00\\x00\\x00\\x00\\x00Y@\\x00\\x00\\x00\\x00\\x00\\x00Y@\\x18\\xe8Ku\\'\\xd7P@Bc\\xe6\\xfa\\xd7-)@\\x00\\x00\\x00\\x00\\x00\\x00\\x00\\x80\\x00\\x00\\x00\\x00\\x00\\x00\\x00\\x80\\x00\\x00\\x00\\x00\\x00\\x00\\x00\\x80\\x00\\x00\\x00\\x00\\x00\\x00\\x00\\x80\\x00\\x00\\x00\\x00\\x00\\x00\\x00\\x80\\x00\\x00\\x00\\x00\\x00\\x00\\x00\\x80\\x00\\x00\\x00\\x00\\x00\\x00Y\\xc0\\x00\\x00\\x00\\x00\\x00\\x00\\x00\\x80\\x00\\x00\\x00\\x00\\x00\\x00\\x00\\x80\\x00\\x00\\x00\\x00\\x00\\x00\\x00\\x80\\x00\\x00\\x00\\x00\\x00\\x00\\x00\\x80\\x00\\x00\\x00\\x00\\x00\\x00\\x00\\x80\\x00\\x00\\x00\\x00\\x00\\x00\\x00\\x80\\x00\\x00\\x00\\x00\\x00\\x00\\x00\\x80\\x00\\x00\\x00\\x00\\x00\\x00\\x00\\x80\\x00\\x00\\x00\\x00\\x00\\x00\\x00\\x80\\x00\\x00\\x00\\x00\\x00\\x00\\x00\\x80\\x00\\x00\\x00\\x00\\x00\\x00\\x00\\x80\\x00\\x00\\x00\\x00\\x00\\x00\\x00\\x80\\x00\\x00\\x00\\x00\\x00\\x00\\x00\\x80\\x00\\x00\\x00\\x00\\x00\\x00\\x00\\x80\\x00\\x00\\x00\\x00\\x00\\x00\\x00\\x80\\x7f\\xb4\\xa8t\\xe2\\xfcS\\xc0\\x00\\x00\\x00\\x00\\x00\\x00Y\\xc0\\x00\\x00\\x00\\x00\\x00\\x00\\x00\\x80\\x00\\x00\\x00\\x00\\x00\\x00Y\\xc0\\x00\\x00\\x00\\x00\\x00\\x00\\x00\\x80\\x00\\x00\\x00\\x00\\x00\\x00\\x00\\x80\\x00\\x00\\x00\\x00\\x00\\x00\\x00\\x80\\x00\\x00\\x00\\x00\\x00\\x00\\x00\\x80\\x00\\x00\\x00\\x00\\x00\\x00\\x00\\x80\\x00\\x00\\x00\\x00\\x00\\x00\\x00\\x80\\x00\\x00\\x00\\x00\\x00\\x00\\x00\\x80\\x00\\x00\\x00\\x00\\x00\\x00\\x00\\x80\\x00\\x00\\x00\\x00\\x00\\x00\\x00\\x80\\x00\\x00\\x00\\x00\\x00\\x00\\x00\\x80\\x00\\x00\\x00\\x00\\x00\\x00\\x00\\x80\\x00\\x00\\x00\\x00\\x00\\x00\\x00\\x80\\x00\\x00\\x00\\x00\\x00\\x00\\x00\\x80\\x00\\x00\\x00\\x00\\x00\\x00\\x00\\x80\\x00\\x00\\x00\\x00\\x00\\x00\\x00\\x80\\x00\\x00\\x00\\x00\\x00\\x00\\x00\\x80\\x00\\x00\\x00\\x00\\x00\\x00\\x00\\x80\\x00\\x00\\x00\\x00\\x00\\x00\\x00\\x80$\\x8f_\\xb0\\x97\\x016@7\\x1c\\xe8\\x13\\x9a\\x7fS@\\x00\\x00\\x00\\x00\\x00\\x00\\x00\\x00\\x00\\x00\\x00\\x00\\x00\\x00\\x00\\x00MA\\xfe\\x88@\\xb5\\x1f@xl\\xaa\\x15\\x19\\x97O@\\x00\\x00\\x00\\x00\\x00\\x00Y@\\x00\\x00\\x00\\x00\\x00\\x00Y@\\x00\\x00\\x00\\x00\\x00\\x00Y@\\x00\\x00\\x00\\x00\\x00\\x00Y@\\x00\\x00\\x00\\x00\\x00\\x00\\x00\\x00\\x00\\x00\\x00\\x00\\x00\\x00Y@\\x00\\x00\\x00\\x00\\x00\\x00Y@\\x00\\x00\\x00\\x00\\x00\\x00Y@\\x00\\x00\\x00\\x00\\x00\\x00Y@\\x00\\x00\\x00\\x00\\x00\\x00Y@\\x00\\x00\\x00\\x00\\x00\\x00Y@\\x00\\x00\\x00\\x00\\x00\\x00Y@\\x00\\x00\\x00\\x00\\x00\\x00Y@\\x00\\x00\\x00\\x00\\x00\\x00Y@\\x00\\x00\\x00\\x00\\x00\\x00Y@\\x00\\x00\\x00\\x00\\x00\\x00Y@\\x00\\x00\\x00\\x00\\x00\\x00Y@\\x00\\x00\\x00\\x00\\x00\\x00Y@\\xd2\\x1e\\xb7\\x84\\xbb?U@\\x00\\x00\\x00\\x00\\x00\\x00Y@\\x00\\x00\\x00\\x00\\x00\\x00\\x00\\x00\\x00\\x00\\x00\\x00\\x00\\x00\\x00\\x00\\x00\\x00\\x00\\x00\\x00\\x00Y\\xc0\\x00\\x00\\x00\\x00\\x00\\x00Y\\xc0\\x00\\x00\\x00\\x00\\x00\\x00Y\\xc0\\x00\\x00\\x00\\x00\\x00\\x00Y\\xc0\\x00\\x00\\x00\\x00\\x00\\x00Y\\xc0\\x00\\x00\\x00\\x00\\x00\\x00Y\\xc0\\x00\\x00\\x00\\x00\\x00\\x00Y\\xc0\\x00\\x00\\x00\\x00\\x00\\x00Y\\xc0\\x00\\x00\\x00\\x00\\x00\\x00Y\\xc0\\x00\\x00\\x00\\x00\\x00\\x00Y\\xc0Dr808\\rL\\xc0\\x00\\x00\\x00\\x00\\x00\\x00Y\\xc0\\x00\\x00\\x00\\x00\\x00\\x00Y\\xc0\\x00\\x00\\x00\\x00\\x00\\x00Y\\xc0\\x00\\x00\\x00\\x00\\x00\\x00Y\\xc0\\x00\\x00\\x00\\x00\\x00\\x00Y\\xc0\\x00\\x00\\x00\\x00\\x00\\x00Y\\xc0\\x00\\x00\\x00\\x00\\x00\\x00Y\\xc0\\x00\\x00\\x00\\x00\\x00\\x00Y\\xc0\\x00\\x00\\x00\\x00\\x00\\x00Y\\xc0q%tq&bX\\n\\x00\\x00\\x00intercept_q\\'h\\x04h\\x05K\\x00\\x85q(h\\x07\\x87q)Rq*(K\\x01K\\x03\\x85q+h\\x1a\\x89C\\x18Mp@+>\\xee\\xbf?\\x00\\xfe\\xff\\xff\\x8f\\x85\\x9b?ad\\xbe\\xfb\\xadP\\xc7\\xbfq,tq-bX\\x17\\x00\\x00\\x00decision_function_shapeq.X\\x03\\x00\\x00\\x00ovrq/X\\x05\\x00\\x00\\x00gammaq0G?PbM\\xd2\\xf1\\xa9\\xfcX\\x02\\x00\\x00\\x00nuq1G\\x00\\x00\\x00\\x00\\x00\\x00\\x00\\x00X\\x10\\x00\\x00\\x00support_vectors_q2h\\x04h\\x05K\\x00\\x85q3h\\x07\\x87q4Rq5(K\\x01K0K\\x04\\x86q6h\\x1a\\x89B\\x00\\x06\\x00\\x00ffffff\\x14@ffffff\\n@333333\\xfb?\\x00\\x00\\x00\\x00\\x00\\x00\\xe0?333333\\x13@333333\\x0b@ffffff\\xfe?\\x9a\\x99\\x99\\x99\\x99\\x99\\xc9?\\x00\\x00\\x00\\x00\\x00\\x00\\x12@ffffff\\x02@\\xcd\\xcc\\xcc\\xcc\\xcc\\xcc\\xf4?333333\\xd3?ffffff\\x14@ffffff\\x0e@ffffff\\xfe?\\x9a\\x99\\x99\\x99\\x99\\x99\\xd9?\\x00\\x00\\x00\\x00\\x00\\x00\\x1c@\\x9a\\x99\\x99\\x99\\x99\\x99\\t@\\xcd\\xcc\\xcc\\xcc\\xcc\\xcc\\x12@ffffff\\xf6?\\x9a\\x99\\x99\\x99\\x99\\x99\\x19@\\x9a\\x99\\x99\\x99\\x99\\x99\\t@\\x00\\x00\\x00\\x00\\x00\\x00\\x12@\\x00\\x00\\x00\\x00\\x00\\x00\\xf8?\\x9a\\x99\\x99\\x99\\x99\\x99\\x1b@\\xcd\\xcc\\xcc\\xcc\\xcc\\xcc\\x08@\\x9a\\x99\\x99\\x99\\x99\\x99\\x13@\\x00\\x00\\x00\\x00\\x00\\x00\\xf8?\\x00\\x00\\x00\\x00\\x00\\x00\\x1a@ffffff\\x06@ffffff\\x12@\\x00\\x00\\x00\\x00\\x00\\x00\\xf8?\\xcd\\xcc\\xcc\\xcc\\xcc\\xcc\\x16@ffffff\\x06@\\x00\\x00\\x00\\x00\\x00\\x00\\x12@\\xcd\\xcc\\xcc\\xcc\\xcc\\xcc\\xf4?333333\\x19@ffffff\\n@\\xcd\\xcc\\xcc\\xcc\\xcc\\xcc\\x12@\\x9a\\x99\\x99\\x99\\x99\\x99\\xf9?\\x9a\\x99\\x99\\x99\\x99\\x99\\x13@333333\\x03@ffffff\\n@\\x00\\x00\\x00\\x00\\x00\\x00\\xf0?ffffff\\x18@333333\\x07@\\xcd\\xcc\\xcc\\xcc\\xcc\\xcc\\x12@ffffff\\xf6?ffffff\\x16@\\x00\\x00\\x00\\x00\\x00\\x00\\x08@\\x00\\x00\\x00\\x00\\x00\\x00\\x12@\\x00\\x00\\x00\\x00\\x00\\x00\\xf8?\\xcd\\xcc\\xcc\\xcc\\xcc\\xcc\\x18@\\x9a\\x99\\x99\\x99\\x99\\x99\\x01@\\x00\\x00\\x00\\x00\\x00\\x00\\x12@\\x00\\x00\\x00\\x00\\x00\\x00\\xf8?\\x9a\\x99\\x99\\x99\\x99\\x99\\x17@\\x9a\\x99\\x99\\x99\\x99\\x99\\t@333333\\x13@\\xcd\\xcc\\xcc\\xcc\\xcc\\xcc\\xfc?333333\\x19@\\x00\\x00\\x00\\x00\\x00\\x00\\x04@\\x9a\\x99\\x99\\x99\\x99\\x99\\x13@\\x00\\x00\\x00\\x00\\x00\\x00\\xf8?ffffff\\x18@ffffff\\x06@\\xcd\\xcc\\xcc\\xcc\\xcc\\xcc\\x12@333333\\xf3?333333\\x1b@ffffff\\x06@333333\\x13@ffffff\\xf6?\\xcd\\xcc\\xcc\\xcc\\xcc\\xcc\\x1a@\\x00\\x00\\x00\\x00\\x00\\x00\\x08@\\x00\\x00\\x00\\x00\\x00\\x00\\x14@333333\\xfb?\\x00\\x00\\x00\\x00\\x00\\x00\\x18@333333\\x07@\\x00\\x00\\x00\\x00\\x00\\x00\\x12@\\x00\\x00\\x00\\x00\\x00\\x00\\xf8?\\x00\\x00\\x00\\x00\\x00\\x00\\x18@\\x9a\\x99\\x99\\x99\\x99\\x99\\x05@ffffff\\x14@\\x9a\\x99\\x99\\x99\\x99\\x99\\xf9?\\x9a\\x99\\x99\\x99\\x99\\x99\\x15@\\x00\\x00\\x00\\x00\\x00\\x00\\x08@\\x00\\x00\\x00\\x00\\x00\\x00\\x12@\\x00\\x00\\x00\\x00\\x00\\x00\\xf8?\\x00\\x00\\x00\\x00\\x00\\x00\\x18@333333\\x0b@\\x00\\x00\\x00\\x00\\x00\\x00\\x12@\\x9a\\x99\\x99\\x99\\x99\\x99\\xf9?\\xcd\\xcc\\xcc\\xcc\\xcc\\xcc\\x1a@\\xcd\\xcc\\xcc\\xcc\\xcc\\xcc\\x08@\\xcd\\xcc\\xcc\\xcc\\xcc\\xcc\\x12@\\x00\\x00\\x00\\x00\\x00\\x00\\xf8?333333\\x19@ffffff\\x02@\\x9a\\x99\\x99\\x99\\x99\\x99\\x11@\\xcd\\xcc\\xcc\\xcc\\xcc\\xcc\\xf4?ffffff\\x18@\\x00\\x00\\x00\\x00\\x00\\x00\\x08@ffffff\\x12@ffffff\\xf6?\\x00\\x00\\x00\\x00\\x00\\x00\\x14@ffffff\\x02@ffffff\\n@\\x00\\x00\\x00\\x00\\x00\\x00\\xf0?ffffff\\x14@\\x00\\x00\\x00\\x00\\x00\\x00\\x04@\\x00\\x00\\x00\\x00\\x00\\x00\\x08@\\x9a\\x99\\x99\\x99\\x99\\x99\\xf1?333333\\x17@\\x9a\\x99\\x99\\x99\\x99\\x99\\x05@ffffff\\x14@ffffff\\xfe?\\x9a\\x99\\x99\\x99\\x99\\x99\\x13@\\x00\\x00\\x00\\x00\\x00\\x00\\x04@\\x00\\x00\\x00\\x00\\x00\\x00\\x12@333333\\xfb?\\x00\\x00\\x00\\x00\\x00\\x00\\x1a@\\x9a\\x99\\x99\\x99\\x99\\x99\\t@ffffff\\x14@\\x00\\x00\\x00\\x00\\x00\\x00\\x00@\\x9a\\x99\\x99\\x99\\x99\\x99\\x19@\\x9a\\x99\\x99\\x99\\x99\\x99\\x05@333333\\x15@ffffff\\xfe?\\xcd\\xcc\\xcc\\xcc\\xcc\\xcc\\x16@\\x00\\x00\\x00\\x00\\x00\\x00\\x04@\\x00\\x00\\x00\\x00\\x00\\x00\\x14@\\x00\\x00\\x00\\x00\\x00\\x00\\x00@\\x00\\x00\\x00\\x00\\x00\\x00\\x18@\\x9a\\x99\\x99\\x99\\x99\\x99\\x01@\\x00\\x00\\x00\\x00\\x00\\x00\\x14@\\x00\\x00\\x00\\x00\\x00\\x00\\xf8?ffffff\\x16@ffffff\\x06@\\x9a\\x99\\x99\\x99\\x99\\x99\\x13@\\x00\\x00\\x00\\x00\\x00\\x00\\x00@333333\\x19@\\x9a\\x99\\x99\\x99\\x99\\x99\\x05@\\x9a\\x99\\x99\\x99\\x99\\x99\\x13@\\xcd\\xcc\\xcc\\xcc\\xcc\\xcc\\xfc?\\xcd\\xcc\\xcc\\xcc\\xcc\\xcc\\x18@ffffff\\x06@333333\\x13@\\xcd\\xcc\\xcc\\xcc\\xcc\\xcc\\xfc?ffffff\\x18@\\x00\\x00\\x00\\x00\\x00\\x00\\x08@\\x9a\\x99\\x99\\x99\\x99\\x99\\x13@\\xcd\\xcc\\xcc\\xcc\\xcc\\xcc\\xfc?\\xcd\\xcc\\xcc\\xcc\\xcc\\xcc\\x1c@\\x00\\x00\\x00\\x00\\x00\\x00\\x08@333333\\x17@\\x9a\\x99\\x99\\x99\\x99\\x99\\xf9?333333\\x19@ffffff\\x06@ffffff\\x14@\\x00\\x00\\x00\\x00\\x00\\x00\\xf8?ffffff\\x18@\\xcd\\xcc\\xcc\\xcc\\xcc\\xcc\\x04@ffffff\\x16@ffffff\\xf6?\\x9a\\x99\\x99\\x99\\x99\\x99\\x19@\\xcd\\xcc\\xcc\\xcc\\xcc\\xcc\\x08@\\x00\\x00\\x00\\x00\\x00\\x00\\x16@\\xcd\\xcc\\xcc\\xcc\\xcc\\xcc\\xfc?\\x00\\x00\\x00\\x00\\x00\\x00\\x18@\\x00\\x00\\x00\\x00\\x00\\x00\\x08@333333\\x13@\\xcd\\xcc\\xcc\\xcc\\xcc\\xcc\\xfc?\\x9a\\x99\\x99\\x99\\x99\\x99\\x1b@\\xcd\\xcc\\xcc\\xcc\\xcc\\xcc\\x08@ffffff\\x14@ffffff\\x02@333333\\x17@\\x9a\\x99\\x99\\x99\\x99\\x99\\x05@ffffff\\x14@ffffff\\xfe?333333\\x19@\\x00\\x00\\x00\\x00\\x00\\x00\\x04@\\x00\\x00\\x00\\x00\\x00\\x00\\x14@ffffff\\xfe?\\x00\\x00\\x00\\x00\\x00\\x00\\x1a@\\x00\\x00\\x00\\x00\\x00\\x00\\x08@\\xcd\\xcc\\xcc\\xcc\\xcc\\xcc\\x14@\\x00\\x00\\x00\\x00\\x00\\x00\\x00@\\x9a\\x99\\x99\\x99\\x99\\x99\\x17@\\x00\\x00\\x00\\x00\\x00\\x00\\x08@ffffff\\x14@\\xcd\\xcc\\xcc\\xcc\\xcc\\xcc\\xfc?q7tq8bX\\x0b\\x00\\x00\\x00probabilityq9\\x89X\\x0c\\x00\\x00\\x00class_weightq:NX\\x06\\x00\\x00\\x00_gammaq;G?PbM\\xd2\\xf1\\xa9\\xfcX\\x06\\x00\\x00\\x00kernelq<X\\x03\\x00\\x00\\x00rbfq=X\\x01\\x00\\x00\\x00Cq>KdX\\x08\\x00\\x00\\x00max_iterq?J\\xff\\xff\\xff\\xffX\\x0b\\x00\\x00\\x00fit_status_q@K\\x00X\\x05\\x00\\x00\\x00coef0qAG\\x00\\x00\\x00\\x00\\x00\\x00\\x00\\x00X\\x07\\x00\\x00\\x00verboseqB\\x89X\\r\\x00\\x00\\x00class_weight_qCh\\x04h\\x05K\\x00\\x85qDh\\x07\\x87qERqF(K\\x01K\\x03\\x85qGh\\x1a\\x89C\\x18\\x00\\x00\\x00\\x00\\x00\\x00\\xf0?\\x00\\x00\\x00\\x00\\x00\\x00\\xf0?\\x00\\x00\\x00\\x00\\x00\\x00\\xf0?qHtqIbX\\x06\\x00\\x00\\x00probB_qJh\\x04h\\x05K\\x00\\x85qKh\\x07\\x87qLRqM(K\\x01K\\x00\\x85qNh\\x1a\\x89h\\x1ctqObX\\x10\\x00\\x00\\x00_sklearn_versionqPX\\x06\\x00\\x00\\x000.21.3qQX\\x08\\x00\\x00\\x00classes_qRh\\x04h\\x05K\\x00\\x85qSh\\x07\\x87qTRqU(K\\x01K\\x03\\x85qVh\\x0e\\x89C\\x0c\\x00\\x00\\x00\\x00\\x01\\x00\\x00\\x00\\x02\\x00\\x00\\x00qWtqXbX\\n\\x00\\x00\\x00n_support_qYh\\x04h\\x05K\\x00\\x85qZh\\x07\\x87q[Rq\\\\(K\\x01K\\x03\\x85q]h\\x0e\\x89C\\x0c\\x04\\x00\\x00\\x00\\x18\\x00\\x00\\x00\\x14\\x00\\x00\\x00q^tq_bX\\n\\x00\\x00\\x00shape_fit_q`K\\x96K\\x04\\x86qaX\\n\\x00\\x00\\x00dual_coef_qbh#X\\n\\x00\\x00\\x00cache_sizeqcK\\xc8X\\x07\\x00\\x00\\x00epsilonqdG\\x00\\x00\\x00\\x00\\x00\\x00\\x00\\x00X\\x0c\\x00\\x00\\x00random_stateqeNX\\x03\\x00\\x00\\x00tolqfG?PbM\\xd2\\xf1\\xa9\\xfcX\\t\\x00\\x00\\x00shrinkingqg\\x88X\\x0b\\x00\\x00\\x00_intercept_qhh\\x04h\\x05K\\x00\\x85qih\\x07\\x87qjRqk(K\\x01K\\x03\\x85qlh\\x1a\\x89C\\x18Mp@+>\\xee\\xbf?\\x00\\xfe\\xff\\xff\\x8f\\x85\\x9b?ad\\xbe\\xfb\\xadP\\xc7\\xbfqmtqnbub.'\n"
     ]
    }
   ],
   "source": [
    "print(s)"
   ]
  },
  {
   "cell_type": "code",
   "execution_count": 114,
   "metadata": {},
   "outputs": [
    {
     "name": "stdout",
     "output_type": "stream",
     "text": [
      "SVC(C=100, cache_size=200, class_weight=None, coef0=0.0,\n",
      "    decision_function_shape='ovr', degree=3, gamma=0.001, kernel='rbf',\n",
      "    max_iter=-1, probability=False, random_state=None, shrinking=True,\n",
      "    tol=0.001, verbose=False)\n"
     ]
    }
   ],
   "source": [
    "clf2 = pickle.loads(s)\n",
    "print(clf2)"
   ]
  },
  {
   "cell_type": "code",
   "execution_count": 115,
   "metadata": {},
   "outputs": [
    {
     "data": {
      "text/plain": [
       "array([0])"
      ]
     },
     "execution_count": 115,
     "metadata": {},
     "output_type": "execute_result"
    }
   ],
   "source": [
    "clf2.predict (X[0:1])  #predict function in sklearn is for predicting unseen data from the model that has trained using the training data"
   ]
  },
  {
   "cell_type": "markdown",
   "metadata": {},
   "source": [
    "# Type casting\n",
    "fit_transform(X)  is the function which used for transforming the type of one data type to another data type"
   ]
  },
  {
   "cell_type": "code",
   "execution_count": 116,
   "metadata": {},
   "outputs": [],
   "source": [
    "import numpy as np\n",
    "from sklearn import random_projection"
   ]
  },
  {
   "cell_type": "code",
   "execution_count": 117,
   "metadata": {},
   "outputs": [
    {
     "name": "stdout",
     "output_type": "stream",
     "text": [
      "RandomState(MT19937)\n"
     ]
    }
   ],
   "source": [
    "rng = np.random.RandomState(0)\n",
    "print(rng)"
   ]
  },
  {
   "cell_type": "code",
   "execution_count": 118,
   "metadata": {},
   "outputs": [
    {
     "name": "stdout",
     "output_type": "stream",
     "text": [
      "[[0.5488135  0.71518937 0.60276338 ... 0.48010781 0.64386404 0.50177313]\n",
      " [0.81151847 0.47608399 0.52315599 ... 0.83000295 0.93280618 0.30833843]\n",
      " [0.29264205 0.56651827 0.13741443 ... 0.69652287 0.48369661 0.33955073]\n",
      " ...\n",
      " [0.32059506 0.24986687 0.03107279 ... 0.38938909 0.93272    0.33276632]\n",
      " [0.39553738 0.84401749 0.15044175 ... 0.53561083 0.35458205 0.93578099]\n",
      " [0.8140271  0.85133715 0.43113659 ... 0.44645576 0.36012661 0.62588665]]\n"
     ]
    }
   ],
   "source": [
    "X = rng.rand(10, 2000)\n",
    "print(X)"
   ]
  },
  {
   "cell_type": "code",
   "execution_count": 119,
   "metadata": {},
   "outputs": [
    {
     "data": {
      "text/plain": [
       "dtype('float64')"
      ]
     },
     "execution_count": 119,
     "metadata": {},
     "output_type": "execute_result"
    }
   ],
   "source": [
    "X.dtype"
   ]
  },
  {
   "cell_type": "markdown",
   "metadata": {},
   "source": [
    "The sklearn.random_projection.GaussianRandomProjection reduces the dimensionality by projecting the original input space on a randomly generated matrix where components are drawn from the gaussian distribution ."
   ]
  },
  {
   "cell_type": "code",
   "execution_count": 120,
   "metadata": {},
   "outputs": [
    {
     "data": {
      "text/plain": [
       "dtype('float32')"
      ]
     },
     "execution_count": 120,
     "metadata": {},
     "output_type": "execute_result"
    }
   ],
   "source": [
    "X=np.array(X, dtype = 'float32')\n",
    "X.dtype"
   ]
  },
  {
   "cell_type": "code",
   "execution_count": 121,
   "metadata": {},
   "outputs": [
    {
     "name": "stdout",
     "output_type": "stream",
     "text": [
      "Dtype of X: float64\n",
      "Shape of X: (10, 1973)\n"
     ]
    }
   ],
   "source": [
    "transformer = random_projection.GaussianRandomProjection()\n",
    "X_new = transformer.fit_transform(X)\n",
    "print(\"Dtype of X:\", X_new.dtype)\n",
    "print(\"Shape of X:\", X_new.shape) \n"
   ]
  },
  {
   "cell_type": "markdown",
   "metadata": {},
   "source": [
    "Refitting the parameters in sklearn\n"
   ]
  },
  {
   "cell_type": "code",
   "execution_count": 122,
   "metadata": {},
   "outputs": [
    {
     "name": "stderr",
     "output_type": "stream",
     "text": [
      "c:\\users\\uib43225\\pycharmprojects\\fusion\\racam\\lib\\site-packages\\sklearn\\svm\\base.py:193: FutureWarning: The default value of gamma will change from 'auto' to 'scale' in version 0.22 to account better for unscaled features. Set gamma explicitly to 'auto' or 'scale' to avoid this warning.\n",
      "  \"avoid this warning.\", FutureWarning)\n"
     ]
    },
    {
     "data": {
      "text/plain": [
       "SVC(C=1.0, cache_size=200, class_weight=None, coef0=0.0,\n",
       "    decision_function_shape='ovr', degree=3, gamma='auto_deprecated',\n",
       "    kernel='rbf', max_iter=-1, probability=False, random_state=None,\n",
       "    shrinking=True, tol=0.001, verbose=False)"
      ]
     },
     "execution_count": 122,
     "metadata": {},
     "output_type": "execute_result"
    }
   ],
   "source": [
    "from sklearn import datasets\n",
    "from sklearn.svm import SVC #support vector classification\n",
    "X, y = datasets.load_iris(return_X_y = True) #X : input, targets\n",
    "cls = SVC()\n",
    "cls.fit(X, y)"
   ]
  },
  {
   "cell_type": "code",
   "execution_count": 123,
   "metadata": {},
   "outputs": [
    {
     "name": "stderr",
     "output_type": "stream",
     "text": [
      "c:\\users\\uib43225\\pycharmprojects\\fusion\\racam\\lib\\site-packages\\sklearn\\svm\\base.py:241: ConvergenceWarning: Solver terminated early (max_iter=10).  Consider pre-processing your data with StandardScaler or MinMaxScaler.\n",
      "  % self.max_iter, ConvergenceWarning)\n"
     ]
    },
    {
     "data": {
      "text/plain": [
       "SVC(C=1.0, cache_size=200, class_weight=None, coef0=0.0,\n",
       "    decision_function_shape='ovr', degree=3, gamma='auto_deprecated',\n",
       "    kernel='linear', max_iter=10, probability=False, random_state=None,\n",
       "    shrinking=True, tol=0.001, verbose=False)"
      ]
     },
     "execution_count": 123,
     "metadata": {},
     "output_type": "execute_result"
    }
   ],
   "source": [
    "#ssetting the parameters kernel and max_iter\n",
    "cls.set_params(kernel ='linear', max_iter=10).fit(X, y)"
   ]
  },
  {
   "cell_type": "code",
   "execution_count": 124,
   "metadata": {},
   "outputs": [
    {
     "data": {
      "text/plain": [
       "array([0, 0, 0, 0, 0])"
      ]
     },
     "execution_count": 124,
     "metadata": {},
     "output_type": "execute_result"
    }
   ],
   "source": [
    "cls.predict(X[0:5])"
   ]
  },
  {
   "cell_type": "code",
   "execution_count": 125,
   "metadata": {},
   "outputs": [
    {
     "name": "stderr",
     "output_type": "stream",
     "text": [
      "c:\\users\\uib43225\\pycharmprojects\\fusion\\racam\\lib\\site-packages\\sklearn\\svm\\base.py:241: ConvergenceWarning: Solver terminated early (max_iter=10).  Consider pre-processing your data with StandardScaler or MinMaxScaler.\n",
      "  % self.max_iter, ConvergenceWarning)\n"
     ]
    },
    {
     "data": {
      "text/plain": [
       "SVC(C=1.0, cache_size=200, class_weight=None, coef0=0.0,\n",
       "    decision_function_shape='ovr', degree=3, gamma='scale', kernel='rbf',\n",
       "    max_iter=10, probability=False, random_state=None, shrinking=True,\n",
       "    tol=0.001, verbose=False)"
      ]
     },
     "execution_count": 125,
     "metadata": {},
     "output_type": "execute_result"
    }
   ],
   "source": [
    "#new parameter\n",
    "cls.set_params(kernel= 'rbf', gamma='scale').fit(X, y)"
   ]
  },
  {
   "cell_type": "code",
   "execution_count": 126,
   "metadata": {},
   "outputs": [
    {
     "data": {
      "text/plain": [
       "array([0, 0, 0, 0, 0])"
      ]
     },
     "execution_count": 126,
     "metadata": {},
     "output_type": "execute_result"
    }
   ],
   "source": [
    "cls.predict(X[0:5])"
   ]
  },
  {
   "cell_type": "markdown",
   "metadata": {},
   "source": [
    "Multiclass and Multifitting"
   ]
  },
  {
   "cell_type": "code",
   "execution_count": 127,
   "metadata": {},
   "outputs": [],
   "source": [
    "from sklearn.svm import SVC\n",
    "from sklearn.multiclass import OneVsRestClassifier\n",
    "#Also known as one-vs-all, this strategy consists in fitting one classifier per class\n",
    "from sklearn.preprocessing import LabelBinarizer"
   ]
  },
  {
   "cell_type": "code",
   "execution_count": 128,
   "metadata": {},
   "outputs": [],
   "source": [
    "X = [[1, 2], [2, 4], [4, 5], [3, 2], [3, 1]]\n",
    "y = [0, 0, 1, 1, 2]"
   ]
  },
  {
   "cell_type": "code",
   "execution_count": 129,
   "metadata": {},
   "outputs": [],
   "source": [
    "classif = OneVsRestClassifier(estimator=SVC (gamma='scale', random_state=0))"
   ]
  },
  {
   "cell_type": "code",
   "execution_count": 130,
   "metadata": {},
   "outputs": [
    {
     "data": {
      "text/plain": [
       "OneVsRestClassifier(estimator=SVC(C=1.0, cache_size=200, class_weight=None,\n",
       "                                  coef0=0.0, decision_function_shape='ovr',\n",
       "                                  degree=3, gamma='scale', kernel='rbf',\n",
       "                                  max_iter=-1, probability=False,\n",
       "                                  random_state=0, shrinking=True, tol=0.001,\n",
       "                                  verbose=False),\n",
       "                    n_jobs=None)"
      ]
     },
     "execution_count": 130,
     "metadata": {},
     "output_type": "execute_result"
    }
   ],
   "source": [
    "classif"
   ]
  },
  {
   "cell_type": "code",
   "execution_count": 131,
   "metadata": {},
   "outputs": [
    {
     "data": {
      "text/plain": [
       "OneVsRestClassifier(estimator=SVC(C=1.0, cache_size=200, class_weight=None,\n",
       "                                  coef0=0.0, decision_function_shape='ovr',\n",
       "                                  degree=3, gamma='scale', kernel='rbf',\n",
       "                                  max_iter=-1, probability=False,\n",
       "                                  random_state=0, shrinking=True, tol=0.001,\n",
       "                                  verbose=False),\n",
       "                    n_jobs=None)"
      ]
     },
     "execution_count": 131,
     "metadata": {},
     "output_type": "execute_result"
    }
   ],
   "source": [
    "classif.fit(X, y)"
   ]
  },
  {
   "cell_type": "code",
   "execution_count": 132,
   "metadata": {},
   "outputs": [
    {
     "data": {
      "text/plain": [
       "array([0, 0, 1, 1, 2])"
      ]
     },
     "execution_count": 132,
     "metadata": {},
     "output_type": "execute_result"
    }
   ],
   "source": [
    "classif.predict(X)"
   ]
  },
  {
   "cell_type": "code",
   "execution_count": 133,
   "metadata": {},
   "outputs": [],
   "source": [
    "y = LabelBinarizer().fit_transform(y)\n",
    "# fit_transform(self, y)\tFit label binarizer and transform multi-class labels to binary labels.\n",
    "# inverse_transform(self, Y[, threshold])\tTransform binary labels back to multi-class labels"
   ]
  },
  {
   "cell_type": "code",
   "execution_count": 134,
   "metadata": {},
   "outputs": [
    {
     "data": {
      "text/plain": [
       "array([[1, 0, 0],\n",
       "       [1, 0, 0],\n",
       "       [0, 1, 0],\n",
       "       [0, 1, 0],\n",
       "       [0, 0, 1]])"
      ]
     },
     "execution_count": 134,
     "metadata": {},
     "output_type": "execute_result"
    }
   ],
   "source": [
    "y"
   ]
  },
  {
   "cell_type": "code",
   "execution_count": 135,
   "metadata": {},
   "outputs": [
    {
     "data": {
      "text/plain": [
       "array([[1, 0, 0],\n",
       "       [1, 0, 0],\n",
       "       [0, 1, 0],\n",
       "       [0, 0, 0],\n",
       "       [0, 0, 0]])"
      ]
     },
     "execution_count": 135,
     "metadata": {},
     "output_type": "execute_result"
    }
   ],
   "source": [
    "classif.fit(X, y).predict(X)"
   ]
  },
  {
   "cell_type": "code",
   "execution_count": 136,
   "metadata": {},
   "outputs": [],
   "source": [
    "#Multilabel Binarizer\n",
    "from sklearn.preprocessing import MultiLabelBinarizer\n",
    "y = [[0, 1], [0, 2], [1, 3], [0, 2, 3], [2, 4]]\n",
    "y = MultiLabelBinarizer().fit_transform(y)"
   ]
  },
  {
   "cell_type": "code",
   "execution_count": 137,
   "metadata": {},
   "outputs": [
    {
     "data": {
      "text/plain": [
       "array([[1, 1, 0, 0, 0],\n",
       "       [1, 0, 1, 0, 0],\n",
       "       [0, 1, 0, 1, 0],\n",
       "       [1, 0, 1, 1, 0],\n",
       "       [0, 0, 1, 0, 1]])"
      ]
     },
     "execution_count": 137,
     "metadata": {},
     "output_type": "execute_result"
    }
   ],
   "source": [
    "y"
   ]
  },
  {
   "cell_type": "code",
   "execution_count": 138,
   "metadata": {},
   "outputs": [
    {
     "data": {
      "text/plain": [
       "array([[1, 1, 0, 0, 0],\n",
       "       [1, 0, 1, 0, 0],\n",
       "       [0, 1, 0, 1, 0],\n",
       "       [1, 0, 1, 0, 0],\n",
       "       [1, 0, 1, 0, 0]])"
      ]
     },
     "execution_count": 138,
     "metadata": {},
     "output_type": "execute_result"
    }
   ],
   "source": [
    "classif.fit(X, y).predict(X)"
   ]
  },
  {
   "cell_type": "code",
   "execution_count": null,
   "metadata": {},
   "outputs": [],
   "source": []
  },
  {
   "cell_type": "code",
   "execution_count": null,
   "metadata": {},
   "outputs": [],
   "source": []
  }
 ],
 "metadata": {
  "kernelspec": {
   "display_name": "Python 3",
   "language": "python",
   "name": "python3"
  },
  "language_info": {
   "codemirror_mode": {
    "name": "ipython",
    "version": 3
   },
   "file_extension": ".py",
   "mimetype": "text/x-python",
   "name": "python",
   "nbconvert_exporter": "python",
   "pygments_lexer": "ipython3",
   "version": "3.5.2"
  }
 },
 "nbformat": 4,
 "nbformat_minor": 2
}
